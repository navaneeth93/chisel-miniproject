{
 "cells": [
  {
   "cell_type": "markdown",
   "id": "a4e4ddeb",
   "metadata": {},
   "source": [
    "# Chisel Project\n",
    "\n",
    "Here we get familar with basic chisel concepts and progressively build a very simple CPU in chisel and run assembly code on it using the scala compiler we developed in the previous tutorial."
   ]
  },
  {
   "cell_type": "code",
   "execution_count": 1,
   "id": "7cddf7f3",
   "metadata": {},
   "outputs": [
    {
     "data": {
      "text/plain": [
       "\u001b[36mpath\u001b[39m: \u001b[32mString\u001b[39m = \u001b[32m\"/Users/navaneeth/scratch/chisel-miniproject/source/load-ivy.sc\"\u001b[39m"
      ]
     },
     "execution_count": 1,
     "metadata": {},
     "output_type": "execute_result"
    }
   ],
   "source": [
    "val path = System.getProperty(\"user.dir\") + \"/source/load-ivy.sc\"\n",
    "interp.load.module(ammonite.ops.Path(java.nio.file.FileSystems.getDefault().getPath(path)))"
   ]
  },
  {
   "cell_type": "code",
   "execution_count": 2,
   "id": "58406777",
   "metadata": {},
   "outputs": [
    {
     "data": {
      "text/plain": [
       "\u001b[32mimport \u001b[39m\u001b[36mchisel3._\n",
       "\u001b[39m\n",
       "\u001b[32mimport \u001b[39m\u001b[36mchisel3.util._\n",
       "\u001b[39m\n",
       "\u001b[32mimport \u001b[39m\u001b[36mchisel3.experimental._\n",
       "\u001b[39m\n",
       "\u001b[32mimport \u001b[39m\u001b[36mchisel3.tester._\n",
       "\u001b[39m\n",
       "\u001b[32mimport \u001b[39m\u001b[36mchisel3.tester.RawTester.test\u001b[39m"
      ]
     },
     "execution_count": 2,
     "metadata": {},
     "output_type": "execute_result"
    }
   ],
   "source": [
    "import chisel3._\n",
    "import chisel3.util._\n",
    "import chisel3.experimental._\n",
    "import chisel3.tester._\n",
    "import chisel3.tester.RawTester.test"
   ]
  },
  {
   "cell_type": "code",
   "execution_count": 50,
   "id": "413dbb6c",
   "metadata": {},
   "outputs": [
    {
     "data": {
      "text/plain": [
       "defined \u001b[32mclass\u001b[39m \u001b[36mRegisterFile\u001b[39m"
      ]
     },
     "execution_count": 50,
     "metadata": {},
     "output_type": "execute_result"
    }
   ],
   "source": [
    "case class RegisterFile(readPorts: Int) extends Module {\n",
    "    require(readPorts >= 0)\n",
    "    val io = IO(new Bundle {\n",
    "        val wen   = Input(Bool())\n",
    "        val waddr = Input(UInt(5.W))\n",
    "        val wdata = Input(UInt(32.W))\n",
    "        val raddr = Input(Vec(readPorts, UInt(5.W)))\n",
    "        val rdata = Output(Vec(readPorts, UInt(32.W)))\n",
    "    })\n",
    "    \n",
    "    // A Register of a vector of UInts\n",
    "    val reg = RegInit(VecInit(Seq.fill(32)(0.U(32.W))))\n",
    "    \n",
    "    when (io.wen) {\n",
    "        reg(io.waddr) := io.wdata\n",
    "    }\n",
    "    \n",
    "    for (i <- 0 until readPorts) {\n",
    "        when (io.raddr(i) === 0.U) {\n",
    "            io.rdata(i) := 0.U\n",
    "        } .otherwise {\n",
    "            io.rdata(i) := reg(io.raddr(i))\n",
    "        }\n",
    "    }\n",
    "}"
   ]
  },
  {
   "cell_type": "code",
   "execution_count": 4,
   "id": "692825f8",
   "metadata": {},
   "outputs": [
    {
     "name": "stdout",
     "output_type": "stream",
     "text": [
      "Elaborating design...\n",
      "Done elaborating.\n",
      "test RegisterFile Success: 0 tests passed in 34 cycles in 0.115678 seconds 293.92 Hz\n"
     ]
    }
   ],
   "source": [
    "test(new RegisterFile(2) ) { c =>\n",
    "  def readExpect(addr: Int, value: Int, port: Int = 0): Unit = {\n",
    "    c.io.raddr(port).poke(addr.U)\n",
    "    c.io.rdata(port).expect(value.U)\n",
    "  }\n",
    "  def write(addr: Int, value: Int): Unit = {\n",
    "    c.io.wen.poke(true.B)\n",
    "    c.io.wdata.poke(value.U)\n",
    "    c.io.waddr.poke(addr.U)\n",
    "    c.clock.step(1)\n",
    "    c.io.wen.poke(false.B)\n",
    "  }\n",
    "  // everything should be 0 on init\n",
    "  for (i <- 0 until 32) {\n",
    "    readExpect(i, 0, port = 0)\n",
    "    readExpect(i, 0, port = 1)\n",
    "  }\n",
    "\n",
    "  // write 5 * addr + 3\n",
    "  for (i <- 0 until 32) {\n",
    "    write(i, 5 * i + 3)\n",
    "  }\n",
    "\n",
    "  // check that the writes worked\n",
    "  for (i <- 0 until 32) {\n",
    "    readExpect(i, if (i == 0) 0 else 5 * i + 3, port = i % 2)\n",
    "  }\n",
    "}"
   ]
  },
  {
   "cell_type": "code",
   "execution_count": 5,
   "id": "74bb23e8",
   "metadata": {},
   "outputs": [
    {
     "data": {
      "text/plain": [
       "defined \u001b[32mclass\u001b[39m \u001b[36mRVCompiler\u001b[39m"
      ]
     },
     "execution_count": 5,
     "metadata": {},
     "output_type": "execute_result"
    }
   ],
   "source": [
    "case class RVCompiler() {\n",
    "    val supported_ops = Array(\"addi\", \"add\", \"sub\", \"mul\")\n",
    "    val supported_regs = Array(\"x0\", \"x1\", \"x2\", \"x3\")\n",
    "    val reg_map = Map(\"x0\" -> 0, \"x1\" -> 1, \"x2\" -> 2, \"x3\" -> 3)\n",
    "\n",
    "    def compile(asm_string: String): Int = {\n",
    "        val opcode = asm_string.split(\" \")(0).toLowerCase().stripSuffix(\",\")\n",
    "        require(supported_ops.contains(opcode))\n",
    "        val operands = List((asm_string.split(\" \")(1).stripSuffix(\",\")), (asm_string.split(\" \")(2).stripSuffix(\",\")), (asm_string.split(\" \")(3)))\n",
    "        require(operands.size == 3)\n",
    "        var inst: Int = 0\n",
    "\n",
    "        opcode match {\n",
    "            case \"addi\" => {\n",
    "                check_i_type(operands)\n",
    "                inst = ITypeInstr(operands(1), operands(0), operands(2))\n",
    "            }\n",
    "            case \"add\"  => {\n",
    "                check_r_type(operands)\n",
    "                inst = RTypeInstr(operands(1), operands(2), operands(0), 0x00)\n",
    "            }\n",
    "            case \"sub\"  => { \n",
    "                check_r_type(operands)\n",
    "                inst = RTypeInstr(operands(1), operands(2), operands(0), 0x20)\n",
    "            }\n",
    "            case \"mul\"  => {\n",
    "                check_r_type(operands)\n",
    "                inst = RTypeInstr(operands(1), operands(2), operands(0), 0x01)\n",
    "            }\n",
    "            case _ => throw new Exception(\"Unsupported instruction\") \n",
    "        }\n",
    "        return inst\n",
    "    }\n",
    "    \n",
    "    def RTypeInstr(rs1: String, rs2: String, rd: String, funct7: Int): Int = {\n",
    "        val bin_val: Int = funct7 << 25 | reg_map(rs2) << 20 | reg_map(rs1) << 15 | 0 << 12 | reg_map(rd) << 7 | 0x33\n",
    "        return bin_val\n",
    "    }\n",
    "    \n",
    "    def ITypeInstr(rs1: String, rd: String, imm: String): Int = {\n",
    "        val imm_val = imm.toInt\n",
    "        val bin_val: Int = imm_val << 20 | reg_map(rs1) << 15 | 0 << 12 | reg_map(rd) << 7 | 0x13\n",
    "        return bin_val\n",
    "    }\n",
    "    \n",
    "    def check_r_type(operands: List[String]) = {\n",
    "        require(supported_regs.contains(operands(0)))\n",
    "        require(supported_regs.contains(operands(1)))\n",
    "        require(supported_regs.contains(operands(2)))\n",
    "    }\n",
    "    \n",
    "    def check_i_type(operands: List[String]) = {\n",
    "        val imm_val = operands(2).toInt\n",
    "        require(imm_val >= -2048 && imm_val <= 2047)\n",
    "        require(supported_regs.contains(operands(0)))\n",
    "        require(supported_regs.contains(operands(1)))\n",
    "    }\n",
    "}\n"
   ]
  },
  {
   "cell_type": "code",
   "execution_count": 81,
   "id": "32ff7069",
   "metadata": {},
   "outputs": [
    {
     "data": {
      "text/plain": [
       "defined \u001b[32mclass\u001b[39m \u001b[36mCrayRV32\u001b[39m"
      ]
     },
     "execution_count": 81,
     "metadata": {},
     "output_type": "execute_result"
    }
   ],
   "source": [
    "class CrayRV32() extends Module {\n",
    "    val io = IO(new Bundle {\n",
    "        val i_bus = Input(UInt(32.W))\n",
    "        val illegal_instr = Output(Bool())\n",
    "        val raddr = Input(UInt(2.W))\n",
    "        val rdata = Output(UInt(32.W))\n",
    "    })\n",
    "    \n",
    "    val reg_file = Module(RegisterFile(3))\n",
    "    io.rdata := reg_file.io.rdata(0)\n",
    "    reg_file.io.raddr(0) := io.raddr\n",
    "    \n",
    "\n",
    "    val opcode = io.i_bus(6, 0)\n",
    "    val rd     = io.i_bus(11, 7)\n",
    "    val funct3 = io.i_bus(14, 12)\n",
    "    val rs1    = io.i_bus(19, 15)\n",
    "    val rs2    = io.i_bus(24, 20)\n",
    "    val funct7 = io.i_bus(31, 25)\n",
    "    val imm    = io.i_bus(31, 20)\n",
    "    \n",
    "//     printf(\"instr: 0x%x, opcode = 0x%x\\n\",io.i_bus, opcode)\n",
    "    \n",
    "    reg_file.io.waddr := rd\n",
    "    \n",
    "    when(opcode === 0x33.U) {  //How to put this in a clocked always@??\n",
    "//         printf(p\"R Type rd:$rd rs1:$rs1 rs2:$rs2\\n\")\n",
    "        reg_file.io.raddr(1) := rs1\n",
    "        reg_file.io.raddr(2) := rs2\n",
    "        reg_file.io.wen      := false.B\n",
    "        io.illegal_instr     := true.B\n",
    "        reg_file.io.wdata    := 0.U\n",
    "        switch(funct7) {  //How to put default case??\n",
    "            is(0x00.U) { //ADD\n",
    "                printf(p\"ADD  [$rd] = [$rs1] + [$rs2]\\n\") //Print during simulation Scala style formatting\n",
    "                reg_file.io.wen      := true.B\n",
    "                reg_file.io.wdata    := reg_file.io.rdata(1) + reg_file.io.rdata(2)\n",
    "                io.illegal_instr := false.B\n",
    "            }\n",
    "            is(0x01.U) { //MUL\n",
    "                printf(\"MUL  [%d] = [%d] * [%d]\\n\", rd, rs1, rs2) //Print during simulation C style formatting\n",
    "                reg_file.io.wen      := true.B\n",
    "                reg_file.io.wdata    := reg_file.io.rdata(1) * reg_file.io.rdata(2)\n",
    "                io.illegal_instr := false.B\n",
    "            }\n",
    "            is(0x20.U) { //SUB\n",
    "                printf(\"SUB  [%d] = [%d] - [%d]\\n\", rd, rs1, rs2)\n",
    "                reg_file.io.wen      := true.B\n",
    "                reg_file.io.wdata    := reg_file.io.rdata(1) - reg_file.io.rdata(2)\n",
    "                io.illegal_instr := false.B\n",
    "            }\n",
    "        }\n",
    "    }.elsewhen(opcode === 0x13.U) { //ADDI\n",
    "        io.illegal_instr := false.B\n",
    "        printf(\"ADDI [%d] = [%d] + %d\\n\", rd, rs1, imm)\n",
    "        reg_file.io.raddr(1) := rs1\n",
    "        reg_file.io.raddr(2) := 0.U\n",
    "        reg_file.io.wen      := true.B\n",
    "        reg_file.io.wdata    := imm + reg_file.io.rdata(1)\n",
    "    }.otherwise {\n",
    "        io.illegal_instr := true.B\n",
    "        reg_file.io.wen  := false.B\n",
    "        reg_file.io.raddr(1) := 0.U\n",
    "        reg_file.io.raddr(2) := 0.U\n",
    "        reg_file.io.wdata    := 0.U\n",
    "    }   \n",
    "}\n",
    "\n",
    "//Print the verilog\n",
    "// println(getVerilog(new CrayRV32()))"
   ]
  },
  {
   "cell_type": "code",
   "execution_count": 82,
   "id": "55616437",
   "metadata": {},
   "outputs": [
    {
     "name": "stdout",
     "output_type": "stream",
     "text": [
      "Elaborating design...\n",
      "Done elaborating.\n",
      "ADDI [  1] = [  0] +    30\n",
      "ADDI [  2] = [  0] +    10\n",
      "ADDI [  3] = [  0] +    10\n",
      "ADD  [  3] = [  1] + [  2]\n",
      "SUB  [  3] = [  1] - [  2]\n",
      "MUL  [  3] = [  1] * [  2]\n",
      "test CrayRV32 Success: 0 tests passed in 8 cycles in 0.025158 seconds 317.98 Hz\n"
     ]
    }
   ],
   "source": [
    "//Simple sanity check\n",
    "test(new CrayRV32()) { c =>\n",
    "    val compiler = RVCompiler()\n",
    "    \n",
    "    val instr_list = Seq(\n",
    "        \"addi x1, x0, 30\",\n",
    "        \"addi x2, x0, 10\",\n",
    "        \"addi x3, x0, 10\",\n",
    "        \"add x3, x1, x2\",\n",
    "        \"sub x3, x1, x2\",\n",
    "        \"mul x3, x1, x2\"\n",
    "    )\n",
    "    \n",
    "    val reg_golden = Seq(\n",
    "        Seq(1, 30),\n",
    "        Seq(2, 10),\n",
    "        Seq(3, 10),\n",
    "        Seq(3, 40),\n",
    "        Seq(3, 20),\n",
    "        Seq(3, 300)\n",
    "    )\n",
    "    \n",
    "    def readExpect(addr: Int, value: Int): Unit = {\n",
    "        c.io.raddr.poke(addr.U)\n",
    "//         println(s\"${c.io.rdata.peek().litValue.toInt} \")\n",
    "        c.io.rdata.expect(value.U)\n",
    "    }\n",
    "    \n",
    "    def check_golden(indx: Int): Unit = {\n",
    "        readExpect(reg_golden(indx)(0), reg_golden(indx)(1))\n",
    "    }\n",
    "        \n",
    "    instr_list.zipWithIndex.foreach{\n",
    "        case (instr, idx) => {\n",
    "            val inst_enc = compiler.compile(instr)\n",
    "            c.io.i_bus.poke(inst_enc.U)\n",
    "            c.io.illegal_instr.expect(false.B)\n",
    "            c.clock.step(1)\n",
    "            check_golden(idx)\n",
    "        }\n",
    "    }\n",
    "    \n",
    "//     for (instr <- instr_list) {\n",
    "//         val inst_enc = compiler.compile(instr)\n",
    "//         c.io.i_bus.poke(inst_enc.U)\n",
    "//         c.clock.step(1)\n",
    "//         print_regfile()\n",
    "//     }\n",
    "}\n",
    "\n"
   ]
  },
  {
   "cell_type": "code",
   "execution_count": null,
   "id": "184ed161",
   "metadata": {},
   "outputs": [],
   "source": []
  }
 ],
 "metadata": {
  "kernelspec": {
   "display_name": "Scala",
   "language": "scala",
   "name": "scala"
  },
  "language_info": {
   "codemirror_mode": "text/x-scala",
   "file_extension": ".scala",
   "mimetype": "text/x-scala",
   "name": "scala",
   "nbconvert_exporter": "script",
   "version": "2.12.10"
  }
 },
 "nbformat": 4,
 "nbformat_minor": 5
}
