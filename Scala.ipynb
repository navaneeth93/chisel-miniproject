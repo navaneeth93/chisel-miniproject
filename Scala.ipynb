{
 "cells": [
  {
   "cell_type": "markdown",
   "id": "5f9f76aa",
   "metadata": {},
   "source": [
    "# Introduction to Scala\n",
    "\n",
    "These tutorials use Jupyter notebook to run code interactively which makes way for a fun way of learning to code a new language.\n",
    "\n",
    "In this tutorial basic concepts of scala are introduced along with building a cool project.\n",
    "\n",
    "## Agenda\n",
    "\n",
    "1. var, val, data types\n",
    "2. Control structures: If else, match\n",
    "3. Methods def (functions)\n",
    "4. Collections: List, Seq, Array\n",
    "5. Classes\n",
    "\n",
    "---"
   ]
  },
  {
   "cell_type": "markdown",
   "id": "9e65278d",
   "metadata": {},
   "source": [
    "## 1. Data types & Variables\n",
    "\n",
    "Scala has two types of variables:\n",
    "\n",
    "* `val` is an immutable variable — like final in Java, const in C/C++ — and should be preferred\n",
    "* `var` creates a mutable variable, and should only be used when there is a specific reason to use it\n",
    "* Examples:"
   ]
  },
  {
   "cell_type": "code",
   "execution_count": null,
   "id": "fe767fd8",
   "metadata": {},
   "outputs": [],
   "source": [
    "val x = 100 //immutable\n",
    "var z = 200 //mutable\n",
    "\n",
    "println(s\"$z\")\n",
    "z = 300  //change value of z\n",
    "println(s\"$z\")\n",
    "// x = 200  // try to change value of x\n",
    "println(s\"$x\")"
   ]
  },
  {
   "cell_type": "markdown",
   "id": "59fe81bc",
   "metadata": {},
   "source": [
    "## 2. Control Structures\n",
    "\n",
    "### 2.1 if/else\n",
    "Scala’s if/else control structure is similar to other languages:"
   ]
  },
  {
   "cell_type": "code",
   "execution_count": null,
   "id": "6c0d0171",
   "metadata": {},
   "outputs": [],
   "source": [
    "val test1 = false\n",
    "val test2 = true\n",
    "val test3 = true\n",
    "\n",
    "if (test1) {\n",
    "    println(\"do A\")\n",
    "} else if (test2) {\n",
    "    println(\"do B\")\n",
    "} else if (test3) {\n",
    "    println(\"do C\")\n",
    "} else {\n",
    "    println(\"do D\")\n",
    "}"
   ]
  },
  {
   "cell_type": "markdown",
   "id": "1b2257b4",
   "metadata": {},
   "source": [
    "However, unlike Java and many other languages, the if/else construct returns a value, so, among other things, you can use it as a ternary operator:"
   ]
  },
  {
   "cell_type": "code",
   "execution_count": null,
   "id": "982d48ef",
   "metadata": {},
   "outputs": [],
   "source": [
    "val (a, b) = (10, 20)\n",
    "val x = if (a < b) a else b"
   ]
  },
  {
   "cell_type": "markdown",
   "id": "dff79689",
   "metadata": {},
   "source": [
    "### 2.2 match expressions"
   ]
  },
  {
   "cell_type": "markdown",
   "id": "6aece89a",
   "metadata": {},
   "source": [
    "Scala has a `match` expression, which in its most basic use is like a Java switch statement:"
   ]
  },
  {
   "cell_type": "code",
   "execution_count": null,
   "id": "2608de45",
   "metadata": {},
   "outputs": [],
   "source": [
    "val i = 1\n",
    "val result = i match {\n",
    "    case 1 => \"one\"\n",
    "    case 2 => \"two\"\n",
    "    case _ => \"not 1 or 2\"\n",
    "}"
   ]
  },
  {
   "cell_type": "markdown",
   "id": "39391730",
   "metadata": {},
   "source": [
    "The `match` expression isn’t limited to just integers, it can be used with any data type, including booleans.\n",
    "\n",
    "Here’s an example of match being used as the body of a method, and matching against many different types:"
   ]
  },
  {
   "cell_type": "code",
   "execution_count": 5,
   "id": "50c3387d",
   "metadata": {},
   "outputs": [
    {
     "name": "stdout",
     "output_type": "stream",
     "text": [
      "Hi is a String\n"
     ]
    },
    {
     "data": {
      "text/plain": [
       "defined \u001b[32mclass\u001b[39m \u001b[36mPerson\u001b[39m\n",
       "\u001b[36mx\u001b[39m: \u001b[32mAny\u001b[39m = \u001b[32m\"Hi\"\u001b[39m\n",
       "\u001b[36mresult\u001b[39m: \u001b[32mString\u001b[39m = \u001b[32m\"Hi is a String\"\u001b[39m"
      ]
     },
     "execution_count": 5,
     "metadata": {},
     "output_type": "execute_result"
    }
   ],
   "source": [
    "class Person(name: String)\n",
    "val x: Any = \"Hi\"\n",
    "// val x: Any = 123\n",
    "// val x: Any = 123.456\n",
    "// val x: Any = List(1, 2, 3)\n",
    "// val x: Any = new Person(\"someone\")\n",
    "val result: String = x match {\n",
    "    case s: String  => s\"$s is a String\"\n",
    "    case i: Int     => s\"$i is Int\"\n",
    "    case f: Float   => s\"$f is Float\"\n",
    "    case l: List[_] => s\"$l is List\"\n",
    "    case p: Person  => s\"$p is Person\"\n",
    "    case _ => \"Unknown\"\n",
    "}\n",
    "println(result)"
   ]
  },
  {
   "cell_type": "markdown",
   "id": "f2aebdf7",
   "metadata": {},
   "source": [
    "### 2.3 for loops \n",
    "\n",
    "In Scala, for loop is also known as for-comprehensions. A for loop is a repetition control structure which allows us to write a loop that is executed a specific number of times."
   ]
  },
  {
   "cell_type": "code",
   "execution_count": null,
   "id": "0db8f9fe",
   "metadata": {},
   "outputs": [],
   "source": [
    "// Iterate over a list of items\n",
    "val args = List(\"Item 1\", \"Item 2\", \"Item 3\")\n",
    "for (arg <- args) println(arg)"
   ]
  },
  {
   "cell_type": "code",
   "execution_count": null,
   "id": "3cae2554",
   "metadata": {},
   "outputs": [],
   "source": [
    "// \"x to y\" syntax\n",
    "for (i <- 0 to 5) println(i)"
   ]
  },
  {
   "cell_type": "code",
   "execution_count": null,
   "id": "c5d4932b",
   "metadata": {},
   "outputs": [],
   "source": [
    "// \"x until y\" syntax\n",
    "for (i <- 0 until 5) println(i)"
   ]
  },
  {
   "cell_type": "code",
   "execution_count": null,
   "id": "d40ffa1e",
   "metadata": {},
   "outputs": [],
   "source": [
    "// \"x to y by\" syntax\n",
    "for (i <- 0 to 10 by 2) println(i)"
   ]
  },
  {
   "cell_type": "code",
   "execution_count": null,
   "id": "f2751929",
   "metadata": {},
   "outputs": [],
   "source": [
    "// conditional within the loop\n",
    "val fruits = List(\"apple\", \"pineapple\", \"lime\", \"orange\")\n",
    "for (f <- fruits if f.length > 4) println(f)"
   ]
  },
  {
   "cell_type": "markdown",
   "id": "a664e275",
   "metadata": {},
   "source": [
    "## 3. Methods\n",
    "\n",
    "Just like other OOP languages, Scala classes have methods, and this is what the Scala method syntax looks like:"
   ]
  },
  {
   "cell_type": "code",
   "execution_count": null,
   "id": "0bfaedf8",
   "metadata": {},
   "outputs": [],
   "source": [
    "def sum(a: Int, b: Int): Int = a + b\n",
    "def concatenate(s1: String, s2: String): String = s1 + s2"
   ]
  },
  {
   "cell_type": "markdown",
   "id": "72d00cf4",
   "metadata": {},
   "source": [
    "This is how you call those methods:"
   ]
  },
  {
   "cell_type": "code",
   "execution_count": null,
   "id": "a70f0a24",
   "metadata": {},
   "outputs": [],
   "source": [
    "val x = sum(1, 2)\n",
    "val y = concatenate(\"foo\", \"bar\")"
   ]
  },
  {
   "cell_type": "markdown",
   "id": "cf8efb8d",
   "metadata": {},
   "source": [
    "There are more things you can do with methods, such as providing default values for method parameters, but that’s a good start for now."
   ]
  },
  {
   "cell_type": "markdown",
   "id": "57543ffb",
   "metadata": {},
   "source": [
    "## 4. Collections\n",
    "\n",
    "\n",
    "### 4.1 Array\n",
    "Scala provides a data structure, the array, which stores a fixed-size sequential collection of elements of the same type. An array is used to store a collection of data, but it is often more useful to think of an array as a collection of variables of the same type.\n",
    "\n",
    "Instead of declaring individual variables, such as number0, number1, ..., and number99, you declare one array variable such as numbers and use numbers[0], numbers[1], and ..., numbers[99] to represent individual variables."
   ]
  },
  {
   "cell_type": "code",
   "execution_count": 7,
   "id": "0cfecc01",
   "metadata": {},
   "outputs": [
    {
     "name": "stdout",
     "output_type": "stream",
     "text": [
      "Item 3\n"
     ]
    },
    {
     "data": {
      "text/plain": [
       "\u001b[36mz\u001b[39m: \u001b[32mArray\u001b[39m[\u001b[32mString\u001b[39m] = \u001b[33mArray\u001b[39m(\u001b[32m\"Item 1\"\u001b[39m, \u001b[32m\"Item 2\"\u001b[39m, \u001b[32m\"Item 3\"\u001b[39m)"
      ]
     },
     "execution_count": 7,
     "metadata": {},
     "output_type": "execute_result"
    }
   ],
   "source": [
    "val z = Array(\"Item 1\", \"Item 2\", \"Item 3\") // Declaration of an array of strings\n",
    "println(s\"${z(2)}\") //code inside \"${}\" will be evaluated and printed"
   ]
  },
  {
   "cell_type": "markdown",
   "id": "1318dd82",
   "metadata": {},
   "source": [
    "### 4.2 List\n",
    "Scala Lists are quite similar to arrays which means, all the elements of a list have the same type but there are two important differences. First, lists are immutable, which means elements of a list cannot be changed by assignment. Second, lists represent a linked list whereas arrays are flat."
   ]
  },
  {
   "cell_type": "code",
   "execution_count": 11,
   "id": "0b03ab5b",
   "metadata": {},
   "outputs": [
    {
     "data": {
      "text/plain": [
       "\u001b[36mfruit\u001b[39m: \u001b[32mList\u001b[39m[\u001b[32mString\u001b[39m] = \u001b[33mList\u001b[39m(\u001b[32m\"apples\"\u001b[39m, \u001b[32m\"oranges\"\u001b[39m, \u001b[32m\"pears\"\u001b[39m)\n",
       "\u001b[36mnums\u001b[39m: \u001b[32mList\u001b[39m[\u001b[32mInt\u001b[39m] = \u001b[33mList\u001b[39m(\u001b[32m1\u001b[39m, \u001b[32m2\u001b[39m, \u001b[32m3\u001b[39m, \u001b[32m4\u001b[39m, \u001b[32m5\u001b[39m, \u001b[32m6\u001b[39m, \u001b[32m7\u001b[39m, \u001b[32m8\u001b[39m, \u001b[32m9\u001b[39m, \u001b[32m10\u001b[39m)"
      ]
     },
     "execution_count": 11,
     "metadata": {},
     "output_type": "execute_result"
    }
   ],
   "source": [
    "// List of Strings\n",
    "val fruit: List[String] = List(\"apples\", \"oranges\", \"pears\")\n",
    "\n",
    "// List of Integers\n",
    "val nums: List[Int] = List(1, 2, 3, 4, 5, 6, 7, 8, 9, 10)"
   ]
  },
  {
   "cell_type": "markdown",
   "id": "66f91ab8",
   "metadata": {},
   "source": [
    "#### Basic Operations on Lists"
   ]
  },
  {
   "cell_type": "code",
   "execution_count": 10,
   "id": "c3d65236",
   "metadata": {},
   "outputs": [
    {
     "name": "stdout",
     "output_type": "stream",
     "text": [
      "Head of fruit : apples\n",
      "Tail of fruit : List(oranges, pears)\n",
      "Check if fruit is empty : false\n",
      "Check if nums is empty : false\n",
      "apples\n",
      "oranges\n",
      "pears\n"
     ]
    }
   ],
   "source": [
    "println( \"Head of fruit : \" + fruit.head ) //This method returns the first element of a list.\n",
    "println( \"Tail of fruit : \" + fruit.tail ) //This method returns a list consisting of all elements except the first.\n",
    "println( \"Check if fruit is empty : \" + fruit.isEmpty) //This method returns true if the list is empty otherwise false.\n",
    "println( \"Check if nums is empty : \" + nums.isEmpty )  //This method returns true if the list is empty otherwise false."
   ]
  },
  {
   "cell_type": "code",
   "execution_count": 12,
   "id": "210c3aed",
   "metadata": {},
   "outputs": [
    {
     "name": "stdout",
     "output_type": "stream",
     "text": [
      "apples\n",
      "oranges\n",
      "pears\n",
      "1\n",
      "2\n",
      "3\n"
     ]
    }
   ],
   "source": [
    "fruit.foreach(println) //foreach method which applies a function to every element in list\n"
   ]
  },
  {
   "cell_type": "code",
   "execution_count": 15,
   "id": "ada82dd2",
   "metadata": {},
   "outputs": [
    {
     "data": {
      "text/plain": [
       "\u001b[36mres14_0\u001b[39m: \u001b[32mList\u001b[39m[\u001b[32mInt\u001b[39m] = \u001b[33mList\u001b[39m(\u001b[32m1\u001b[39m, \u001b[32m2\u001b[39m, \u001b[32m3\u001b[39m)\n",
       "\u001b[36mres14_1\u001b[39m: \u001b[32mList\u001b[39m[\u001b[32mInt\u001b[39m] = \u001b[33mList\u001b[39m(\u001b[32m1\u001b[39m, \u001b[32m2\u001b[39m, \u001b[32m3\u001b[39m)"
      ]
     },
     "execution_count": 15,
     "metadata": {},
     "output_type": "execute_result"
    }
   ],
   "source": [
    "nums.filter(_ < 4) //filter takes a conditional and returns a subset matching the conditional\n",
    "nums.filter((a) => a < 4) //same as above implemented without wildcard access"
   ]
  },
  {
   "cell_type": "code",
   "execution_count": 13,
   "id": "63b29bcb",
   "metadata": {},
   "outputs": [
    {
     "data": {
      "text/plain": [
       "\u001b[36mres12\u001b[39m: \u001b[32mList\u001b[39m[\u001b[32mInt\u001b[39m] = \u001b[33mList\u001b[39m(\u001b[32m2\u001b[39m, \u001b[32m4\u001b[39m, \u001b[32m6\u001b[39m, \u001b[32m8\u001b[39m, \u001b[32m10\u001b[39m, \u001b[32m12\u001b[39m, \u001b[32m14\u001b[39m, \u001b[32m16\u001b[39m, \u001b[32m18\u001b[39m, \u001b[32m20\u001b[39m)"
      ]
     },
     "execution_count": 13,
     "metadata": {},
     "output_type": "execute_result"
    }
   ],
   "source": [
    "nums.map(_ * 2)"
   ]
  },
  {
   "cell_type": "markdown",
   "id": "880d74c3",
   "metadata": {},
   "source": [
    "### 4.3 Map\n",
    "Scala map is a collection of key/value pairs. Any value can be retrieved based on its key. Keys are unique in the Map, but values need not be unique. Maps are also called Hash tables. "
   ]
  },
  {
   "cell_type": "code",
   "execution_count": 17,
   "id": "54d17274",
   "metadata": {},
   "outputs": [
    {
     "data": {
      "text/plain": [
       "\u001b[36mreg_map\u001b[39m: \u001b[32mMap\u001b[39m[\u001b[32mString\u001b[39m, \u001b[32mInt\u001b[39m] = \u001b[33mMap\u001b[39m(\u001b[32m\"x0\"\u001b[39m -> \u001b[32m0\u001b[39m, \u001b[32m\"x1\"\u001b[39m -> \u001b[32m1\u001b[39m, \u001b[32m\"x2\"\u001b[39m -> \u001b[32m2\u001b[39m, \u001b[32m\"x3\"\u001b[39m -> \u001b[32m3\u001b[39m)"
      ]
     },
     "execution_count": 17,
     "metadata": {},
     "output_type": "execute_result"
    }
   ],
   "source": [
    "val reg_map  = Map(\"x0\" -> 0, \"x1\" -> 1, \"x2\" -> 2, \"x3\" -> 3)"
   ]
  },
  {
   "cell_type": "code",
   "execution_count": 18,
   "id": "816e784e",
   "metadata": {},
   "outputs": [
    {
     "name": "stdout",
     "output_type": "stream",
     "text": [
      "0\n"
     ]
    },
    {
     "data": {
      "text/plain": [
       "\u001b[36mmap_val\u001b[39m: \u001b[32mInt\u001b[39m = \u001b[32m0\u001b[39m"
      ]
     },
     "execution_count": 18,
     "metadata": {},
     "output_type": "execute_result"
    }
   ],
   "source": [
    "val map_val = reg_map(\"x0\") // Access the value stored against the key \"x0\"\n",
    "println(s\"$map_val\")"
   ]
  },
  {
   "cell_type": "markdown",
   "id": "1bd9f840",
   "metadata": {},
   "source": [
    "## 5. Classes\n",
    "Lets put together what we have learnt so far and classes (covered next) to implement a partial RiscV assembler.\n",
    "\n",
    "### RiscV Assembler\n",
    "An assembler is a program that takes basic computer instructions and converts them into a pattern of bits that the computer's processor can use to perform its basic operations. To keep things simlpe only few instructions are targeted here from the RiscV ISA, for complete RiscV ISA refer the [specifications](https://riscv.org/technical/specifications/).\n",
    "\n",
    "#### Instruction listing\n",
    "\n",
    "```\n",
    "| Instruction     | Description                                                                 |\n",
    "| --------------- | --------------------------------------------------------------------------- |\n",
    "| add a0, t0, t1  | Adds value of t0 to the value of t1 and stores the sum into a0.             |\n",
    "| addi a0, t0, 10 | Adds value of t0 to the value 10 and stores the sum into a0.                |\n",
    "| sub a0, t0, t1  | Subtracts value of t1 from value of t0 and stores the difference in a0.     |\n",
    "| mul a0, t0, t1  | Multiplies the value of t0 to the value of t1 and stores the product in a0. |\n",
    "```\n",
    "\n",
    "#### Bitmap\n",
    "\n",
    "```\n",
    "| Instr  | 31:25   | 24:20 | 19:15 | 14:12  | 11:7 | 6:0     |\n",
    "| -----  | ------- | ----- | ----- | ------ | ---- | ------- |\n",
    "| R-Type | funct7  | rs2   | rs1   | funct3 | rd   | 0110011 |\n",
    "| I-Type |    imm[11:0]    | rs1   | funct3 | rd   | 0010011 |\n",
    "```\n",
    "\n",
    "---\n",
    "\n",
    "```\n",
    "| Instr | 31:25   | 24:20 | 19:15 | 14:12 | 11:7 | 6:0     |\n",
    "| ----- | ------- | ----- | ----- | ----- | ---- | ------- |\n",
    "| ADD   | 0000000 | rs2   | rs1   | 000   | rd   | 0110011 |\n",
    "| ADDI  |    imm[11:0]    | rs1   | 000   | rd   | 0010011 |\n",
    "| SUB   | 0100000 | rs2   | rs1   | 000   | rd   | 0110011 |\n",
    "| MUL   | 0000001 | rs2   | rs1   | 000   | rd   | 0110011 |\n",
    "```\n",
    "\n",
    "Here’s an example of a Scala class:"
   ]
  },
  {
   "cell_type": "code",
   "execution_count": 1,
   "id": "c28eeb5f",
   "metadata": {},
   "outputs": [
    {
     "data": {
      "text/plain": [
       "defined \u001b[32mclass\u001b[39m \u001b[36mRVAssembler\u001b[39m"
      ]
     },
     "execution_count": 1,
     "metadata": {},
     "output_type": "execute_result"
    }
   ],
   "source": [
    "//Basic class definition containing attributes and methods\n",
    "class RVAssembler() {\n",
    "    val supported_ops  = Array(\"addi\", \"add\", \"sub\", \"mul\")\n",
    "    val supported_regs = Array(\"x0\", \"x1\", \"x2\", \"x3\")\n",
    "    val reg_map        = Map(\"x0\" -> 0, \"x1\" -> 1, \"x2\" -> 2, \"x3\" -> 3)\n",
    "    \n",
    "    def assemble(asm_string: String) = {\n",
    "        println(s\"Convert $asm_string assembly to machine code\")\n",
    "    }\n",
    "}"
   ]
  },
  {
   "cell_type": "code",
   "execution_count": 56,
   "id": "d99f106a",
   "metadata": {},
   "outputs": [
    {
     "data": {
      "text/plain": [
       "\u001b[36masm_code\u001b[39m: \u001b[32mArray\u001b[39m[\u001b[32mString\u001b[39m] = \u001b[33mArray\u001b[39m(\n",
       "  \u001b[32m\"addi x1, x1, 10\"\u001b[39m,\n",
       "  \u001b[32m\"addi x2, x2, 30\"\u001b[39m,\n",
       "  \u001b[32m\"add x0, x1, x2\"\u001b[39m,\n",
       "  \u001b[32m\"sub x0, x1, x2\"\u001b[39m,\n",
       "  \u001b[32m\"mul x0, x1, x2\"\u001b[39m\n",
       ")"
      ]
     },
     "execution_count": 56,
     "metadata": {},
     "output_type": "execute_result"
    }
   ],
   "source": [
    "val asm_code = Array(\n",
    "    \"addi x1, x1, 10\",\n",
    "    \"addi x2, x2, 30\",\n",
    "    \"add x0, x1, x2\",\n",
    "    \"sub x0, x1, x2\",\n",
    "    \"mul x0, x1, x2\"\n",
    ")"
   ]
  },
  {
   "cell_type": "markdown",
   "id": "7e050132",
   "metadata": {},
   "source": [
    "This is how you use that class:"
   ]
  },
  {
   "cell_type": "code",
   "execution_count": 3,
   "id": "676fff0f",
   "metadata": {},
   "outputs": [
    {
     "name": "stdout",
     "output_type": "stream",
     "text": [
      "Convert addi x1, x1, 10 assembly to machine code\n"
     ]
    },
    {
     "data": {
      "text/plain": [
       "\u001b[36massembler\u001b[39m: \u001b[32mRVAssembler\u001b[39m = ammonite.$sess.cmd0$Helper$RVAssembler@5c66dd1e"
      ]
     },
     "execution_count": 3,
     "metadata": {},
     "output_type": "execute_result"
    }
   ],
   "source": [
    "val assembler = new RVAssembler()\n",
    "assembler.assemble(asm_code(0))"
   ]
  },
  {
   "cell_type": "code",
   "execution_count": 35,
   "id": "2eae3bc9",
   "metadata": {},
   "outputs": [
    {
     "name": "stdout",
     "output_type": "stream",
     "text": [
      "Convert addi x1, x1, 10 assembly to machine code\n"
     ]
    },
    {
     "data": {
      "text/plain": [
       "defined \u001b[32mclass\u001b[39m \u001b[36mRVAssembler\u001b[39m\n",
       "\u001b[36massembler\u001b[39m: \u001b[32mRVAssembler\u001b[39m = ammonite.$sess.cmd34$Helper$RVAssembler@6a823fe4"
      ]
     },
     "execution_count": 35,
     "metadata": {},
     "output_type": "execute_result"
    }
   ],
   "source": [
    "//Add parsing of opcode from the input assembly string\n",
    "class RVAssembler() {\n",
    "    val supported_ops  = Array(\"addi\", \"add\", \"sub\", \"mul\")\n",
    "    val reg_map = Map(\"x0\"  -> 0, \"x1\"  -> 1, \"x2\"  -> 2, \"x3\"  -> 3,\n",
    "                      \"x4\"  -> 0, \"x5\"  -> 1, \"x6\"  -> 2, \"x7\"  -> 3,\n",
    "                      \"x8\"  -> 0, \"x9\"  -> 1, \"x10\" -> 2, \"x11\" -> 3,\n",
    "                      \"x12\" -> 0, \"x13\" -> 1, \"x14\" -> 2, \"x15\" -> 3,\n",
    "                      \"x16\" -> 0, \"x17\" -> 1, \"x18\" -> 2, \"x19\" -> 3,\n",
    "                      \"x20\" -> 0, \"x21\" -> 1, \"x22\" -> 2, \"x23\" -> 3,\n",
    "                      \"x24\" -> 0, \"x25\" -> 1, \"x26\" -> 2, \"x27\" -> 3,\n",
    "                      \"x28\" -> 0, \"x29\" -> 1, \"x30\" -> 2, \"x31\" -> 3\n",
    "                     )\n",
    "    val supported_regs = reg_map.keys\n",
    "    \n",
    "    def assemble(asm_string: String) = {\n",
    "        println(s\"Convert $asm_string assembly to machine code\")\n",
    "        val opcode = asm_string.split(\" \")//(0).toLowerCase().stripSuffix(\",\")\n",
    "//         opcode.foreach(println)\n",
    "    }\n",
    "}\n",
    "\n",
    "val assembler = new RVAssembler()\n",
    "assembler.assemble(asm_code(0))"
   ]
  },
  {
   "cell_type": "code",
   "execution_count": 26,
   "id": "c7437a3f",
   "metadata": {},
   "outputs": [
    {
     "name": "stdout",
     "output_type": "stream",
     "text": [
      "Convert addi x1, x1, 10 assembly to machine code\n",
      "opcode: addi\n"
     ]
    },
    {
     "data": {
      "text/plain": [
       "defined \u001b[32mclass\u001b[39m \u001b[36mRVAssembler\u001b[39m\n",
       "\u001b[36massembler\u001b[39m: \u001b[32mRVAssembler\u001b[39m = ammonite.$sess.cmd25$Helper$RVAssembler@211a3a3d"
      ]
     },
     "execution_count": 26,
     "metadata": {},
     "output_type": "execute_result"
    }
   ],
   "source": [
    "//Add static checking for supported instructions\n",
    "class RVAssembler() {\n",
    "    val supported_ops  = Array(\"addi\", \"add\", \"sub\", \"mul\")\n",
    "    val reg_map = Map(\"x0\"  -> 0, \"x1\"  -> 1, \"x2\"  -> 2, \"x3\"  -> 3,\n",
    "                      \"x4\"  -> 0, \"x5\"  -> 1, \"x6\"  -> 2, \"x7\"  -> 3,\n",
    "                      \"x8\"  -> 0, \"x9\"  -> 1, \"x10\" -> 2, \"x11\" -> 3,\n",
    "                      \"x12\" -> 0, \"x13\" -> 1, \"x14\" -> 2, \"x15\" -> 3,\n",
    "                      \"x16\" -> 0, \"x17\" -> 1, \"x18\" -> 2, \"x19\" -> 3,\n",
    "                      \"x20\" -> 0, \"x21\" -> 1, \"x22\" -> 2, \"x23\" -> 3,\n",
    "                      \"x24\" -> 0, \"x25\" -> 1, \"x26\" -> 2, \"x27\" -> 3,\n",
    "                      \"x28\" -> 0, \"x29\" -> 1, \"x30\" -> 2, \"x31\" -> 3\n",
    "                     )\n",
    "    val supported_regs = reg_map.keys\n",
    "    \n",
    "    def assemble(asm_string: String) = {\n",
    "        println(s\"Convert $asm_string assembly to machine code\")\n",
    "        val opcode = asm_string.split(\" \")(0).toLowerCase().stripSuffix(\",\")\n",
    "        println(s\"opcode: $opcode\")\n",
    "        require(supported_ops.contains(opcode), \"Unsupported Instruction\")\n",
    "    }\n",
    "}\n",
    "\n",
    "val assembler = new RVAssembler()\n",
    "assembler.assemble(asm_code(0))\n",
    "// assembler.assemble(\"div x1, x1, 10\") //Unsupported instruction"
   ]
  },
  {
   "cell_type": "code",
   "execution_count": 27,
   "id": "e9a0c3ce",
   "metadata": {},
   "outputs": [
    {
     "name": "stdout",
     "output_type": "stream",
     "text": [
      "Convert addi x1, x1, 10 assembly to machine code\n",
      "opcode: addi\n",
      "opcode: addi, operands: List(x1, x1, 10)\n"
     ]
    },
    {
     "data": {
      "text/plain": [
       "defined \u001b[32mclass\u001b[39m \u001b[36mRVAssembler\u001b[39m\n",
       "\u001b[36massembler\u001b[39m: \u001b[32mRVAssembler\u001b[39m = ammonite.$sess.cmd26$Helper$RVAssembler@67471233"
      ]
     },
     "execution_count": 27,
     "metadata": {},
     "output_type": "execute_result"
    }
   ],
   "source": [
    "//Add parsing of operands\n",
    "class RVAssembler() {\n",
    "    val supported_ops  = Array(\"addi\", \"add\", \"sub\", \"mul\")\n",
    "    val reg_map = Map(\"x0\"  -> 0, \"x1\"  -> 1, \"x2\"  -> 2, \"x3\"  -> 3,\n",
    "                      \"x4\"  -> 0, \"x5\"  -> 1, \"x6\"  -> 2, \"x7\"  -> 3,\n",
    "                      \"x8\"  -> 0, \"x9\"  -> 1, \"x10\" -> 2, \"x11\" -> 3,\n",
    "                      \"x12\" -> 0, \"x13\" -> 1, \"x14\" -> 2, \"x15\" -> 3,\n",
    "                      \"x16\" -> 0, \"x17\" -> 1, \"x18\" -> 2, \"x19\" -> 3,\n",
    "                      \"x20\" -> 0, \"x21\" -> 1, \"x22\" -> 2, \"x23\" -> 3,\n",
    "                      \"x24\" -> 0, \"x25\" -> 1, \"x26\" -> 2, \"x27\" -> 3,\n",
    "                      \"x28\" -> 0, \"x29\" -> 1, \"x30\" -> 2, \"x31\" -> 3\n",
    "                     )\n",
    "    val supported_regs = reg_map.keys\n",
    "    \n",
    "    def assemble(asm_string: String) = {\n",
    "        println(s\"Convert $asm_string assembly to machine code\")\n",
    "        //Get the opcode\n",
    "        val opcode = asm_string.split(\" \")(0).toLowerCase().stripSuffix(\",\")\n",
    "        println(s\"opcode: $opcode\")\n",
    "        require(supported_ops.contains(opcode), \"Unsupported Instruction\")\n",
    "        \n",
    "        //Get the operands\n",
    "        val operands = List((asm_string.split(\" \")(1).stripSuffix(\",\")), (asm_string.split(\" \")(2).stripSuffix(\",\")), (asm_string.split(\" \")(3)))\n",
    "        require(operands.size == 3)\n",
    "        println(s\"opcode: $opcode, operands: ${operands}\")\n",
    "    }\n",
    "}\n",
    "\n",
    "val assembler = new RVAssembler()\n",
    "assembler.assemble(asm_code(0))"
   ]
  },
  {
   "cell_type": "code",
   "execution_count": null,
   "id": "75408574",
   "metadata": {},
   "outputs": [],
   "source": [
    "//Use opcode to decide the assembler steps\n",
    "class RVAssembler() {\n",
    "    val supported_ops  = Array(\"addi\", \"add\", \"sub\", \"mul\")\n",
    "    val reg_map = Map(\"x0\"  -> 0, \"x1\"  -> 1, \"x2\"  -> 2, \"x3\"  -> 3,\n",
    "                      \"x4\"  -> 0, \"x5\"  -> 1, \"x6\"  -> 2, \"x7\"  -> 3,\n",
    "                      \"x8\"  -> 0, \"x9\"  -> 1, \"x10\" -> 2, \"x11\" -> 3,\n",
    "                      \"x12\" -> 0, \"x13\" -> 1, \"x14\" -> 2, \"x15\" -> 3,\n",
    "                      \"x16\" -> 0, \"x17\" -> 1, \"x18\" -> 2, \"x19\" -> 3,\n",
    "                      \"x20\" -> 0, \"x21\" -> 1, \"x22\" -> 2, \"x23\" -> 3,\n",
    "                      \"x24\" -> 0, \"x25\" -> 1, \"x26\" -> 2, \"x27\" -> 3,\n",
    "                      \"x28\" -> 0, \"x29\" -> 1, \"x30\" -> 2, \"x31\" -> 3\n",
    "                     )\n",
    "    val supported_regs = reg_map.keys\n",
    "    \n",
    "    def assemble(asm_string: String) = {\n",
    "        println(s\"Convert $asm_string assembly to machine code\")\n",
    "        //Get the opcode\n",
    "        val opcode = asm_string.split(\" \")(0).toLowerCase().stripSuffix(\",\")\n",
    "        println(s\"opcode: $opcode\")\n",
    "        require(supported_ops.contains(opcode), \"Unsupported Instruction\")\n",
    "        \n",
    "        //Get the operands\n",
    "        val operands = List((asm_string.split(\" \")(1).stripSuffix(\",\")), (asm_string.split(\" \")(2).stripSuffix(\",\")), (asm_string.split(\" \")(3)))\n",
    "        require(operands.size == 3)\n",
    "        println(s\"opcode: $opcode, operands: ${operands}\")\n",
    "\n",
    "        //Based on the opcode take different actions\n",
    "        var inst: Int = 0\n",
    "        opcode match {\n",
    "            case \"addi\" => {\n",
    "                println(\"Assemble addi instruction\")\n",
    "            }\n",
    "            case \"add\"  => {\n",
    "                println(\"Assemble add instruction\")\n",
    "            }\n",
    "            case \"sub\"  => { \n",
    "                println(\"Assemble sub instruction\")\n",
    "            }\n",
    "            case \"mul\"  => {\n",
    "                println(\"Assemble mul instruction\")\n",
    "            }\n",
    "            case _ => throw new Exception(\"Unsupported instruction\") \n",
    "        }\n",
    "        return inst\n",
    "        \n",
    "    }\n",
    "}\n",
    "\n",
    "val assembler = new RVAssembler()\n",
    "assembler.assemble(asm_code(0))"
   ]
  },
  {
   "cell_type": "code",
   "execution_count": 39,
   "id": "ae614e9e",
   "metadata": {},
   "outputs": [
    {
     "name": "stdout",
     "output_type": "stream",
     "text": [
      "Convert addi x54, x1, 10 assembly to machine code\n",
      "opcode: addi\n",
      "opcode: addi, operands: List(x54, x1, 10)\n",
      "Assemble addi instruction\n"
     ]
    },
    {
     "ename": "",
     "evalue": "",
     "output_type": "error",
     "traceback": [
      "\u001b[31mjava.lang.IllegalArgumentException: requirement failed: Illegal register value\u001b[39m\n  scala.Predef$.require(\u001b[32mPredef.scala\u001b[39m:\u001b[32m281\u001b[39m)\n  ammonite.$sess.cmd38$Helper$RVAssembler.check_i_type(\u001b[32mcmd38.sc\u001b[39m:\u001b[32m51\u001b[39m)\n  ammonite.$sess.cmd38$Helper$RVAssembler.assemble(\u001b[32mcmd38.sc\u001b[39m:\u001b[32m31\u001b[39m)\n  ammonite.$sess.cmd38$Helper.<init>(\u001b[32mcmd38.sc\u001b[39m:\u001b[32m58\u001b[39m)\n  ammonite.$sess.cmd38$.<init>(\u001b[32mcmd38.sc\u001b[39m:\u001b[32m7\u001b[39m)\n  ammonite.$sess.cmd38$.<clinit>(\u001b[32mcmd38.sc\u001b[39m:\u001b[32m-1\u001b[39m)"
     ]
    }
   ],
   "source": [
    "//Check if I type instructions are as per spec\n",
    "class RVAssembler() {\n",
    "    val supported_ops  = Array(\"addi\", \"add\", \"sub\", \"mul\")\n",
    "    val reg_map = Map(\"x0\"  -> 0, \"x1\"  -> 1, \"x2\"  -> 2, \"x3\"  -> 3,\n",
    "                      \"x4\"  -> 0, \"x5\"  -> 1, \"x6\"  -> 2, \"x7\"  -> 3,\n",
    "                      \"x8\"  -> 0, \"x9\"  -> 1, \"x10\" -> 2, \"x11\" -> 3,\n",
    "                      \"x12\" -> 0, \"x13\" -> 1, \"x14\" -> 2, \"x15\" -> 3,\n",
    "                      \"x16\" -> 0, \"x17\" -> 1, \"x18\" -> 2, \"x19\" -> 3,\n",
    "                      \"x20\" -> 0, \"x21\" -> 1, \"x22\" -> 2, \"x23\" -> 3,\n",
    "                      \"x24\" -> 0, \"x25\" -> 1, \"x26\" -> 2, \"x27\" -> 3,\n",
    "                      \"x28\" -> 0, \"x29\" -> 1, \"x30\" -> 2, \"x31\" -> 3\n",
    "                     )\n",
    "    val supported_regs = reg_map.keys.toList\n",
    "    \n",
    "    def assemble(asm_string: String): Int = {\n",
    "        println(s\"Convert $asm_string assembly to machine code\")\n",
    "        //Get the opcode\n",
    "        val opcode = asm_string.split(\" \")(0).toLowerCase().stripSuffix(\",\")\n",
    "        println(s\"opcode: $opcode\")\n",
    "        require(supported_ops.contains(opcode), \"Unsupported Instruction\")\n",
    "        \n",
    "        //Get the operands\n",
    "        val operands = List((asm_string.split(\" \")(1).stripSuffix(\",\")), (asm_string.split(\" \")(2).stripSuffix(\",\")), (asm_string.split(\" \")(3)))\n",
    "        require(operands.size == 3)\n",
    "        println(s\"opcode: $opcode, operands: ${operands}\")\n",
    "\n",
    "        //Based on the opcode take different actions\n",
    "        var inst: Int = 0\n",
    "        opcode match {\n",
    "            case \"addi\" => {\n",
    "                println(\"Assemble addi instruction\")\n",
    "                check_i_type(operands)\n",
    "            }\n",
    "            case \"add\"  => {\n",
    "                println(\"Assemble add instruction\")\n",
    "            }\n",
    "            case \"sub\"  => { \n",
    "                println(\"Assemble sub instruction\")\n",
    "            }\n",
    "            case \"mul\"  => {\n",
    "                println(\"Assemble mul instruction\")\n",
    "            }\n",
    "            case _ => throw new Exception(\"Unsupported instruction\") \n",
    "        }\n",
    "        return inst\n",
    "        \n",
    "    }\n",
    "    \n",
    "    def check_i_type(operands: List[String]) = {\n",
    "        val imm_val = operands(2).toInt //Convert string to Integer\n",
    "        require(imm_val >= -2048 && imm_val <= 2047, \"Immediate value out of range\") //Immediate is limited to 12bits\n",
    "        require(supported_regs.contains(operands(0)), \"Illegal register value\")\n",
    "        require(supported_regs.contains(operands(1)), \"Illegal register value\")\n",
    "    }\n",
    "}\n",
    "\n",
    "val assembler = new RVAssembler()\n",
    "assembler.assemble(asm_code(0))\n",
    "//assembler.assemble(\"addi x54, x1, 10\") //Unsupported operands"
   ]
  },
  {
   "cell_type": "code",
   "execution_count": null,
   "id": "52340482",
   "metadata": {},
   "outputs": [],
   "source": [
    "//Check if R type instructions are as per spec\n",
    "class RVAssembler() {\n",
    "    val supported_ops  = Array(\"addi\", \"add\", \"sub\", \"mul\")\n",
    "    val reg_map = Map(\"x0\"  -> 0, \"x1\"  -> 1, \"x2\"  -> 2, \"x3\"  -> 3,\n",
    "                      \"x4\"  -> 0, \"x5\"  -> 1, \"x6\"  -> 2, \"x7\"  -> 3,\n",
    "                      \"x8\"  -> 0, \"x9\"  -> 1, \"x10\" -> 2, \"x11\" -> 3,\n",
    "                      \"x12\" -> 0, \"x13\" -> 1, \"x14\" -> 2, \"x15\" -> 3,\n",
    "                      \"x16\" -> 0, \"x17\" -> 1, \"x18\" -> 2, \"x19\" -> 3,\n",
    "                      \"x20\" -> 0, \"x21\" -> 1, \"x22\" -> 2, \"x23\" -> 3,\n",
    "                      \"x24\" -> 0, \"x25\" -> 1, \"x26\" -> 2, \"x27\" -> 3,\n",
    "                      \"x28\" -> 0, \"x29\" -> 1, \"x30\" -> 2, \"x31\" -> 3\n",
    "                     )\n",
    "    val supported_regs = reg_map.keys.toList\n",
    "    \n",
    "    def assemble(asm_string: String): Int = {\n",
    "        println(s\"Convert $asm_string assembly to machine code\")\n",
    "        //Get the opcode\n",
    "        val opcode = asm_string.split(\" \")(0).toLowerCase().stripSuffix(\",\")\n",
    "        println(s\"opcode: $opcode\")\n",
    "        require(supported_ops.contains(opcode), \"Unsupported Instruction\")\n",
    "        \n",
    "        //Get the operands\n",
    "        val operands = List((asm_string.split(\" \")(1).stripSuffix(\",\")), (asm_string.split(\" \")(2).stripSuffix(\",\")), (asm_string.split(\" \")(3)))\n",
    "        require(operands.size == 3)\n",
    "        println(s\"opcode: $opcode, operands: ${operands}\")\n",
    "\n",
    "        //Based on the opcode take different actions\n",
    "        var inst: Int = 0\n",
    "        opcode match {\n",
    "            case \"addi\" => {\n",
    "                println(\"Assemble addi instruction\")\n",
    "                check_i_type(operands)\n",
    "            }\n",
    "            case \"add\"  => {\n",
    "                println(\"Assemble add instruction\")\n",
    "                check_r_type(operands)\n",
    "            }\n",
    "            case \"sub\"  => { \n",
    "                println(\"Assemble sub instruction\")\n",
    "                check_r_type(operands)\n",
    "            }\n",
    "            case \"mul\"  => {\n",
    "                println(\"Assemble mul instruction\")\n",
    "                check_r_type(operands)\n",
    "            }\n",
    "            case _ => throw new Exception(\"Unsupported instruction\") \n",
    "        }\n",
    "        return inst\n",
    "        \n",
    "    }\n",
    "    \n",
    "    def check_i_type(operands: List[String]) = {\n",
    "        val imm_val = operands(2).toInt //Convert string to Integer\n",
    "        require(imm_val >= -2048 && imm_val <= 2047, \"Immediate value out of range\") //Immediate is limited to 12bits\n",
    "        require(supported_regs.contains(operands(0)), \"Illegal register value\")\n",
    "        require(supported_regs.contains(operands(1)), \"Illegal register value\")\n",
    "    }\n",
    "    \n",
    "    def check_r_type(operands: List[String]) = {\n",
    "        require(supported_regs.contains(operands(0)), \"Illegal register value\")\n",
    "        require(supported_regs.contains(operands(1)), \"Illegal register value\")\n",
    "        require(supported_regs.contains(operands(2)), \"Illegal register value\")\n",
    "    }\n",
    "}\n",
    "\n",
    "val assembler = new RVAssembler()\n",
    "assembler.assemble(asm_code(0))\n",
    "//assembler.assemble(\"addi x54, x1, 10\") //Unsupported operands"
   ]
  },
  {
   "cell_type": "code",
   "execution_count": 44,
   "id": "ddfc35b7",
   "metadata": {},
   "outputs": [
    {
     "name": "stdout",
     "output_type": "stream",
     "text": [
      "Convert addi x1, x1, 10 assembly to machine code\n",
      "Assemble addi instruction\n",
      "0xA08093"
     ]
    },
    {
     "data": {
      "text/plain": [
       "defined \u001b[32mclass\u001b[39m \u001b[36mRVAssembler\u001b[39m\n",
       "\u001b[36massembler\u001b[39m: \u001b[32mRVAssembler\u001b[39m = ammonite.$sess.cmd43$Helper$RVAssembler@4661d2a0"
      ]
     },
     "execution_count": 44,
     "metadata": {},
     "output_type": "execute_result"
    }
   ],
   "source": [
    "//Check if R type instructions are as per spec\n",
    "class RVAssembler() {\n",
    "    val supported_ops  = Array(\"addi\", \"add\", \"sub\", \"mul\")\n",
    "    val reg_map = Map(\"x0\"  -> 0, \"x1\"  -> 1, \"x2\"  -> 2, \"x3\"  -> 3,\n",
    "                      \"x4\"  -> 0, \"x5\"  -> 1, \"x6\"  -> 2, \"x7\"  -> 3,\n",
    "                      \"x8\"  -> 0, \"x9\"  -> 1, \"x10\" -> 2, \"x11\" -> 3,\n",
    "                      \"x12\" -> 0, \"x13\" -> 1, \"x14\" -> 2, \"x15\" -> 3,\n",
    "                      \"x16\" -> 0, \"x17\" -> 1, \"x18\" -> 2, \"x19\" -> 3,\n",
    "                      \"x20\" -> 0, \"x21\" -> 1, \"x22\" -> 2, \"x23\" -> 3,\n",
    "                      \"x24\" -> 0, \"x25\" -> 1, \"x26\" -> 2, \"x27\" -> 3,\n",
    "                      \"x28\" -> 0, \"x29\" -> 1, \"x30\" -> 2, \"x31\" -> 3\n",
    "                     )\n",
    "    val supported_regs = reg_map.keys.toList\n",
    "    \n",
    "    def assemble(asm_string: String): Int = {\n",
    "        println(s\"Convert $asm_string assembly to machine code\")\n",
    "        //Get the opcode\n",
    "        val opcode = asm_string.split(\" \")(0).toLowerCase().stripSuffix(\",\")\n",
    "        require(supported_ops.contains(opcode), \"Unsupported Instruction\")\n",
    "        \n",
    "        //Get the operands\n",
    "        val operands = List((asm_string.split(\" \")(1).stripSuffix(\",\")), (asm_string.split(\" \")(2).stripSuffix(\",\")), (asm_string.split(\" \")(3)))\n",
    "        require(operands.size == 3)\n",
    "\n",
    "        //Based on the opcode take different actions\n",
    "        var inst: Int = 0\n",
    "        opcode match {\n",
    "            case \"addi\" => {\n",
    "                println(\"Assemble addi instruction\")\n",
    "                check_i_type(operands)\n",
    "                inst = ITypeInstr(operands(1), operands(0), operands(2))\n",
    "            }\n",
    "            case \"add\"  => {\n",
    "                println(\"Assemble add instruction\")\n",
    "                check_r_type(operands)\n",
    "            }\n",
    "            case \"sub\"  => { \n",
    "                println(\"Assemble sub instruction\")\n",
    "                check_r_type(operands)\n",
    "            }\n",
    "            case \"mul\"  => {\n",
    "                println(\"Assemble mul instruction\")\n",
    "                check_r_type(operands)\n",
    "            }\n",
    "            case _ => throw new Exception(\"Unsupported instruction\") \n",
    "        }\n",
    "        return inst\n",
    "        \n",
    "    }\n",
    "    \n",
    "    def check_i_type(operands: List[String]) = {\n",
    "        val imm_val = operands(2).toInt //Convert string to Integer\n",
    "        require(imm_val >= -2048 && imm_val <= 2047, \"Immediate value out of range\") //Immediate is limited to 12bits\n",
    "        require(supported_regs.contains(operands(0)), \"Illegal register value\")\n",
    "        require(supported_regs.contains(operands(1)), \"Illegal register value\")\n",
    "    }\n",
    "    \n",
    "    def check_r_type(operands: List[String]) = {\n",
    "        require(supported_regs.contains(operands(0)), \"Illegal register value\")\n",
    "        require(supported_regs.contains(operands(1)), \"Illegal register value\")\n",
    "        require(supported_regs.contains(operands(2)), \"Illegal register value\")\n",
    "    }\n",
    "    \n",
    "    def ITypeInstr(rs1: String, rd: String, imm: String): Int = {\n",
    "        val imm_val = imm.toInt\n",
    "        val bin_val: Int = imm_val << 20 | reg_map(rs1) << 15 | 0 << 12 | reg_map(rd) << 7 | 0x13\n",
    "        return bin_val\n",
    "    }\n",
    "}\n",
    "\n",
    "val assembler = new RVAssembler()\n",
    "printf(\"0x%X\", (assembler.assemble(asm_code(0))))"
   ]
  },
  {
   "cell_type": "code",
   "execution_count": 58,
   "id": "4f9b1d1e",
   "metadata": {},
   "outputs": [
    {
     "data": {
      "text/plain": [
       "defined \u001b[32mclass\u001b[39m \u001b[36mRVAssembler\u001b[39m"
      ]
     },
     "execution_count": 58,
     "metadata": {},
     "output_type": "execute_result"
    }
   ],
   "source": [
    "//Full code put together to form the assembler class\n",
    "case class RVAssembler() {\n",
    "    val supported_ops = Array(\"addi\", \"add\", \"sub\", \"mul\")\n",
    "    val reg_map = Map(\"x0\"  -> 0,  \"x1\"  -> 1,  \"x2\"  -> 2,  \"x3\"  -> 3,\n",
    "                      \"x4\"  -> 4,  \"x5\"  -> 5,  \"x6\"  -> 6,  \"x7\"  -> 7,\n",
    "                      \"x8\"  -> 8,  \"x9\"  -> 9,  \"x10\" -> 10, \"x11\" -> 11,\n",
    "                      \"x12\" -> 12, \"x13\" -> 13, \"x14\" -> 14, \"x15\" -> 15,\n",
    "                      \"x16\" -> 16, \"x17\" -> 17, \"x18\" -> 18, \"x19\" -> 19,\n",
    "                      \"x20\" -> 20, \"x21\" -> 21, \"x22\" -> 22, \"x23\" -> 23,\n",
    "                      \"x24\" -> 24, \"x25\" -> 25, \"x26\" -> 26, \"x27\" -> 27,\n",
    "                      \"x28\" -> 28, \"x29\" -> 29, \"x30\" -> 30, \"x31\" -> 31\n",
    "                     )\n",
    "    val supported_regs = reg_map.keys.toList\n",
    "\n",
    "    def assemble(asm_string: String): Int = {\n",
    "        println(s\"Convert $asm_string assembly to machine code\")\n",
    "        \n",
    "        //Get the opcode\n",
    "        val opcode = asm_string.split(\" \")(0).toLowerCase().stripSuffix(\",\")\n",
    "        require(supported_ops.contains(opcode))\n",
    "        \n",
    "        //Get the operands\n",
    "        val operands = List((asm_string.split(\" \")(1).stripSuffix(\",\")), (asm_string.split(\" \")(2).stripSuffix(\",\")), (asm_string.split(\" \")(3)))\n",
    "        require(operands.size == 3)\n",
    "        \n",
    "        //Based on the opcode take different actions\n",
    "        var inst: Int = 0\n",
    "        opcode match {\n",
    "            case \"addi\" => {\n",
    "                check_i_type(operands)\n",
    "                inst = ITypeInstr(operands(1), operands(0), operands(2))\n",
    "            }\n",
    "            case \"add\"  => {\n",
    "                check_r_type(operands)\n",
    "                inst = RTypeInstr(operands(1), operands(2), operands(0), 0x00)\n",
    "            }\n",
    "            case \"sub\"  => { \n",
    "                check_r_type(operands)\n",
    "                inst = RTypeInstr(operands(1), operands(2), operands(0), 0x20)\n",
    "            }\n",
    "            case \"mul\"  => {\n",
    "                check_r_type(operands)\n",
    "                inst = RTypeInstr(operands(1), operands(2), operands(0), 0x01)\n",
    "            }\n",
    "            case _ => throw new Exception(\"Unsupported instruction\") \n",
    "        }\n",
    "        return inst\n",
    "    }\n",
    "    \n",
    "    def check_i_type(operands: List[String]) = {\n",
    "        val imm_val = operands(2).toInt //Convert string to Integer\n",
    "        require(imm_val >= -2048 && imm_val <= 2047, \"Immediate value out of range\") //Immediate is limited to 12bits\n",
    "        require(supported_regs.contains(operands(0)), s\"{operands(0)} Illegal register value\")\n",
    "        require(supported_regs.contains(operands(1)), s\"{operands(1)} Illegal register value\")\n",
    "    }\n",
    "    \n",
    "    def check_r_type(operands: List[String]) = {\n",
    "        require(supported_regs.contains(operands(0)), s\"{operands(0)} Illegal register value\")\n",
    "        require(supported_regs.contains(operands(1)), s\"{operands(1)} Illegal register value\")\n",
    "        require(supported_regs.contains(operands(2)), s\"{operands(2)} Illegal register value\")\n",
    "    }\n",
    "    \n",
    "    def ITypeInstr(rs1: String, rd: String, imm: String): Int = {\n",
    "        val imm_val = imm.toInt\n",
    "        val bin_val: Int = imm_val << 20 | reg_map(rs1) << 15 | 0 << 12 | reg_map(rd) << 7 | 0x13\n",
    "        return bin_val\n",
    "    }\n",
    "    \n",
    "    def RTypeInstr(rs1: String, rs2: String, rd: String, funct7: Int): Int = {\n",
    "        val bin_val: Int = funct7 << 25 | reg_map(rs2) << 20 | reg_map(rs1) << 15 | 0 << 12 | reg_map(rd) << 7 | 0x33\n",
    "        return bin_val\n",
    "    }\n",
    "}\n"
   ]
  },
  {
   "cell_type": "code",
   "execution_count": 61,
   "id": "df1a5143",
   "metadata": {},
   "outputs": [
    {
     "name": "stdout",
     "output_type": "stream",
     "text": [
      "Convert addi x1, x1, 10 assembly to machine code\n",
      "0xA08093\n",
      "Convert addi x2, x2, 30 assembly to machine code\n",
      "0x1E10113\n",
      "Convert add x0, x1, x2 assembly to machine code\n",
      "0x208033\n",
      "Convert sub x0, x1, x2 assembly to machine code\n",
      "0x40208033\n",
      "Convert mul x0, x1, x2 assembly to machine code\n",
      "0x2208033\n"
     ]
    },
    {
     "data": {
      "text/plain": [
       "\u001b[36massembler\u001b[39m: \u001b[32mRVAssembler\u001b[39m = RVAssembler()"
      ]
     },
     "execution_count": 61,
     "metadata": {},
     "output_type": "execute_result"
    }
   ],
   "source": [
    "val assembler = RVAssembler()\n",
    "for (instr <- asm_code) {\n",
    "    printf(\"0x%X\\n\", assembler.assemble(instr))\n",
    "}"
   ]
  },
  {
   "cell_type": "markdown",
   "id": "f8145579",
   "metadata": {},
   "source": [
    "---\n",
    "\n",
    "## References\n",
    "\n",
    "1. [How to choose a collection class in Scala](https://alvinalexander.com/scala/how-to-choose-collection-class-scala-cookbook/)\n",
    "2. [Scala Book: Prelude - A Taste of Scala](https://docs.scala-lang.org/overviews/scala-book/prelude-taste-of-scala.html)\n",
    "3. [Scala Tutorial: Tutorials Point](https://www.tutorialspoint.com/scala/index.htm)"
   ]
  }
 ],
 "metadata": {
  "kernelspec": {
   "display_name": "Scala",
   "language": "scala",
   "name": "scala"
  },
  "language_info": {
   "codemirror_mode": "text/x-scala",
   "file_extension": ".scala",
   "mimetype": "text/x-scala",
   "name": "scala",
   "nbconvert_exporter": "script",
   "version": "2.12.10"
  }
 },
 "nbformat": 4,
 "nbformat_minor": 5
}
