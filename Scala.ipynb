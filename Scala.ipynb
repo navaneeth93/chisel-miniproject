{
 "cells": [
  {
   "cell_type": "markdown",
   "id": "5f9f76aa",
   "metadata": {},
   "source": [
    "# Introduction to Scala\n",
    "\n",
    "These tutorials use Jupyter notebook to run code interactively which makes way for a fun way of learning to code a new language.\n",
    "\n",
    "In this tutorial basic concepts of scala are introduced along with building a cool project.\n",
    "\n",
    "## heading 2\n",
    "\n",
    "---"
   ]
  },
  {
   "cell_type": "code",
   "execution_count": 2,
   "id": "d58912fa",
   "metadata": {},
   "outputs": [
    {
     "name": "stdout",
     "output_type": "stream",
     "text": [
      "Hello World!!\n"
     ]
    }
   ],
   "source": [
    "println(\"Hello World!!\")"
   ]
  },
  {
   "cell_type": "code",
   "execution_count": 3,
   "id": "fe767fd8",
   "metadata": {},
   "outputs": [
    {
     "data": {
      "text/plain": [
       "\u001b[36mx\u001b[39m: \u001b[32mInt\u001b[39m = \u001b[32m100\u001b[39m"
      ]
     },
     "execution_count": 3,
     "metadata": {},
     "output_type": "execute_result"
    }
   ],
   "source": [
    "val x = 100"
   ]
  },
  {
   "cell_type": "markdown",
   "id": "4dbc29b2",
   "metadata": {},
   "source": [
    "```\n",
    "| Instr | 31:25   | 24:20 | 19:15 | 14:12 | 11:7 | 6:0     |\n",
    "| ----- | ------- | ----- | ----- | ----- | ---- | ------- |\n",
    "| ADD   | 0000000 | rs2   | rs1   | 000   | rd   | 0110011 |\n",
    "| ADDI  |    imm[11:0]    | rs1   | 000   | rd   | 0010011 |\n",
    "| SUB   | 0100000 | rs2   | rs1   | 000   | rd   | 0110011 |\n",
    "| MUL   | 0000001 | rs2   | rs1   | 000   | rd   | 0110011 |\n",
    "```"
   ]
  },
  {
   "cell_type": "markdown",
   "id": "9f5785b3",
   "metadata": {},
   "source": [
    "Supported instructions\n",
    "\n",
    "```\n",
    "add a0, t0, t1 -> Adds value of t0 to the value of t1 and stores the sum into a0\n",
    "addi a0, t0, -10 -> Adds value of t0 to the value -10 and stores the sum into a0.\n",
    "sub a0, t0, t1 -> Subtracts value of t1 from value of t0 and stores the difference in a0.\n",
    "mul a0, t0, t1 -> Multiplies the value of t0 to the value of t1 and stores the product in a0.\n",
    "```\n"
   ]
  },
  {
   "cell_type": "code",
   "execution_count": 36,
   "id": "d99f106a",
   "metadata": {},
   "outputs": [
    {
     "name": "stdout",
     "output_type": "stream",
     "text": [
      "List(addi x1, x1, -10, addi x2, x2, 30, add x0, x1, x2, sub x0, x1, x2, mul x0, x1, x2)\n"
     ]
    },
    {
     "data": {
      "text/plain": [
       "\u001b[36minstr_list\u001b[39m: \u001b[32mSeq\u001b[39m[\u001b[32mString\u001b[39m] = \u001b[33mList\u001b[39m(\n",
       "  \u001b[32m\"addi x1, x1, -10\"\u001b[39m,\n",
       "  \u001b[32m\"addi x2, x2, 30\"\u001b[39m,\n",
       "  \u001b[32m\"add x0, x1, x2\"\u001b[39m,\n",
       "  \u001b[32m\"sub x0, x1, x2\"\u001b[39m,\n",
       "  \u001b[32m\"mul x0, x1, x2\"\u001b[39m\n",
       ")"
      ]
     },
     "execution_count": 36,
     "metadata": {},
     "output_type": "execute_result"
    }
   ],
   "source": [
    "val instr_list = Seq(\n",
    "    \"addi x1, x1, -10\",\n",
    "    \"addi x2, x2, 30\",\n",
    "    \"add x0, x1, x2\",\n",
    "    \"sub x0, x1, x2\",\n",
    "    \"mul x0, x1, x2\"\n",
    ")"
   ]
  },
  {
   "cell_type": "code",
   "execution_count": 40,
   "id": "4f9b1d1e",
   "metadata": {},
   "outputs": [
    {
     "name": "stdout",
     "output_type": "stream",
     "text": [
      "opcode: addi, operands: List(x1, x1, -10)\n",
      "opcode: addi, operands: List(x2, x2, 30)\n",
      "opcode: add, operands: List(x0, x1, x2)\n",
      "100001000000000110011\n",
      "opcode: sub, operands: List(x0, x1, x2)\n",
      "1000000000100001000000000110011\n",
      "opcode: mul, operands: List(x0, x1, x2)\n",
      "10000100001000000000110011\n"
     ]
    },
    {
     "data": {
      "text/plain": [
       "defined \u001b[32mfunction\u001b[39m \u001b[36msplitter\u001b[39m\n",
       "\u001b[36msupported_ops\u001b[39m: \u001b[32mArray\u001b[39m[\u001b[32mString\u001b[39m] = \u001b[33mArray\u001b[39m(\u001b[32m\"addi\"\u001b[39m, \u001b[32m\"add\"\u001b[39m, \u001b[32m\"sub\"\u001b[39m, \u001b[32m\"mul\"\u001b[39m)\n",
       "\u001b[36msupported_regs\u001b[39m: \u001b[32mArray\u001b[39m[\u001b[32mString\u001b[39m] = \u001b[33mArray\u001b[39m(\u001b[32m\"x0\"\u001b[39m, \u001b[32m\"x1\"\u001b[39m, \u001b[32m\"x2\"\u001b[39m, \u001b[32m\"x3\"\u001b[39m)\n",
       "\u001b[36mreg_map\u001b[39m: \u001b[32mMap\u001b[39m[\u001b[32mString\u001b[39m, \u001b[32mInt\u001b[39m] = \u001b[33mMap\u001b[39m(\u001b[32m\"x0\"\u001b[39m -> \u001b[32m0\u001b[39m, \u001b[32m\"x1\"\u001b[39m -> \u001b[32m1\u001b[39m, \u001b[32m\"x2\"\u001b[39m -> \u001b[32m2\u001b[39m, \u001b[32m\"x3\"\u001b[39m -> \u001b[32m3\u001b[39m)\n",
       "defined \u001b[32mfunction\u001b[39m \u001b[36mcheck_r_type\u001b[39m\n",
       "defined \u001b[32mfunction\u001b[39m \u001b[36mcheck_i_type\u001b[39m\n",
       "defined \u001b[32mclass\u001b[39m \u001b[36mRTypeInstr\u001b[39m"
      ]
     },
     "execution_count": 40,
     "metadata": {},
     "output_type": "execute_result"
    }
   ],
   "source": [
    "val supported_ops = Array(\"addi\", \"add\", \"sub\", \"mul\")\n",
    "val supported_regs = Array(\"x0\", \"x1\", \"x2\", \"x3\")\n",
    "val reg_map = Map(\"x0\" -> 0, \"x1\" -> 1, \"x2\" -> 2, \"x3\" -> 3)\n",
    "\n",
    "def check_r_type(operands: List[String]) = {\n",
    "    require(supported_regs.contains(operands(0)))\n",
    "    require(supported_regs.contains(operands(1)))\n",
    "    require(supported_regs.contains(operands(2)))\n",
    "}\n",
    "    \n",
    "def check_i_type(operands: List[String]) = {\n",
    "    val imm_val = operands(2).toInt\n",
    "    require(imm_val >= -2048 && imm_val <= 2047)\n",
    "    require(supported_regs.contains(operands(0)))\n",
    "    require(supported_regs.contains(operands(1)))\n",
    "}\n",
    "\n",
    "class RTypeInstr(val rs1: String, val rs2: String, val rd: String, val funct7: Int) {\n",
    "    val bin_val: Int = funct7 << 25 | reg_map(rs2) << 19 | reg_map(rs1) << 15 | 0 << 12 | reg_map(rd) << 7 | 0x33\n",
    "}\n",
    "\n",
    "\n",
    "for (instr <- instr_list) {\n",
    "    val opcode = instr.split(\" \")(0).toLowerCase().stripSuffix(\",\")\n",
    "    require(supported_ops.contains(opcode))\n",
    "    val operands = List((instr.split(\" \")(1).stripSuffix(\",\")), (instr.split(\" \")(2).stripSuffix(\",\")), (instr.split(\" \")(3)))\n",
    "    require(operands.size == 3)\n",
    "    println(s\"opcode: $opcode, operands: ${operands}\")\n",
    "    \n",
    "    opcode match {\n",
    "        case \"addi\" => {\n",
    "            check_i_type(operands)\n",
    "        }\n",
    "        case \"add\"  => {\n",
    "            check_r_type(operands)\n",
    "            val inst = new RTypeInstr(operands(1), operands(2), operands(0), 0x00)\n",
    "            println(inst.bin_val.toBinaryString)\n",
    "        }\n",
    "        case \"sub\"  => { \n",
    "            check_r_type(operands)\n",
    "            val inst = new RTypeInstr(operands(1), operands(2), operands(0), 0x20)\n",
    "            println(inst.bin_val.toBinaryString)\n",
    "        }\n",
    "        case \"mul\"  => {\n",
    "            check_r_type(operands)\n",
    "            val inst = new RTypeInstr(operands(1), operands(2), operands(0), 0x01)\n",
    "            println(inst.bin_val.toBinaryString)\n",
    "        }\n",
    "        case _ => throw new Exception(\"Unsupported instruction\") \n",
    "    }\n",
    "    \n",
    "}\n"
   ]
  },
  {
   "cell_type": "code",
   "execution_count": null,
   "id": "df1a5143",
   "metadata": {},
   "outputs": [],
   "source": []
  }
 ],
 "metadata": {
  "kernelspec": {
   "display_name": "Scala",
   "language": "scala",
   "name": "scala"
  },
  "language_info": {
   "codemirror_mode": "text/x-scala",
   "file_extension": ".scala",
   "mimetype": "text/x-scala",
   "name": "scala",
   "nbconvert_exporter": "script",
   "version": "2.12.10"
  }
 },
 "nbformat": 4,
 "nbformat_minor": 5
}
