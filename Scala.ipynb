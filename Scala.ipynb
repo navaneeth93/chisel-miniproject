{
 "cells": [
  {
   "cell_type": "markdown",
   "id": "5f9f76aa",
   "metadata": {},
   "source": [
    "# Introduction to Scala\n",
    "\n",
    "These tutorials use Jupyter notebook to run code interactively which makes way for a fun way of learning to code a new language.\n",
    "\n",
    "In this tutorial basic concepts of scala are introduced along with building a cool project.\n",
    "\n",
    "## Agenda\n",
    "\n",
    "1. var, val, data types\n",
    "2. Control structures: If else, match\n",
    "3. Methods def (functions)\n",
    "4. Collections: List, Seq, Array\n",
    "5. Classes\n",
    "\n",
    "---"
   ]
  },
  {
   "cell_type": "markdown",
   "id": "0bd4772e",
   "metadata": {},
   "source": [
    "## 1. Data types & Variables\n",
    "\n",
    "Scala has two types of variables:\n",
    "\n",
    "* `val` is an immutable variable — like final in Java, const in C/C++ — and should be preferred\n",
    "* `var` creates a mutable variable, and should only be used when there is a specific reason to use it\n",
    "* Examples:"
   ]
  },
  {
   "cell_type": "code",
   "execution_count": null,
   "id": "fe767fd8",
   "metadata": {},
   "outputs": [],
   "source": [
    "val x = 100 //immutable\n",
    "var y = 200 //mutable"
   ]
  },
  {
   "cell_type": "markdown",
   "id": "565c12e8",
   "metadata": {},
   "source": [
    "## 2. Control Structures\n",
    "\n",
    "### 2.1 if/else\n",
    "Scala’s if/else control structure is similar to other languages:"
   ]
  },
  {
   "cell_type": "code",
   "execution_count": null,
   "id": "8a46f4ff",
   "metadata": {},
   "outputs": [],
   "source": [
    "val test1 = false\n",
    "val test2 = true\n",
    "val test3 = true\n",
    "\n",
    "if (test1) {\n",
    "    println(\"do A\")\n",
    "} else if (test2) {\n",
    "    println(\"do B\")\n",
    "} else if (test3) {\n",
    "    println(\"do C\")\n",
    "} else {\n",
    "    println(\"do D\")\n",
    "}"
   ]
  },
  {
   "cell_type": "markdown",
   "id": "0ce5c5e8",
   "metadata": {},
   "source": [
    "However, unlike Java and many other languages, the if/else construct returns a value, so, among other things, you can use it as a ternary operator:"
   ]
  },
  {
   "cell_type": "code",
   "execution_count": null,
   "id": "9a4fe41d",
   "metadata": {},
   "outputs": [],
   "source": [
    "val (a, b) = (10, 20)\n",
    "val x = if (a < b) a else b"
   ]
  },
  {
   "cell_type": "markdown",
   "id": "52e8d741",
   "metadata": {},
   "source": [
    "### 2.2 match expressions"
   ]
  },
  {
   "cell_type": "markdown",
   "id": "331df2a4",
   "metadata": {},
   "source": [
    "Scala has a `match` expression, which in its most basic use is like a Java switch statement:"
   ]
  },
  {
   "cell_type": "code",
   "execution_count": null,
   "id": "ed73ce33",
   "metadata": {},
   "outputs": [],
   "source": [
    "val i = 1\n",
    "val result = i match {\n",
    "    case 1 => \"one\"\n",
    "    case 2 => \"two\"\n",
    "    case _ => \"not 1 or 2\"\n",
    "}"
   ]
  },
  {
   "cell_type": "markdown",
   "id": "5dff83ed",
   "metadata": {},
   "source": [
    "The `match` expression isn’t limited to just integers, it can be used with any data type, including booleans.\n",
    "\n",
    "Here’s an example of match being used as the body of a method, and matching against many different types:"
   ]
  },
  {
   "cell_type": "code",
   "execution_count": 5,
   "id": "912ef048",
   "metadata": {},
   "outputs": [
    {
     "name": "stdout",
     "output_type": "stream",
     "text": [
      "Hi is a String\n"
     ]
    },
    {
     "data": {
      "text/plain": [
       "defined \u001b[32mclass\u001b[39m \u001b[36mPerson\u001b[39m\n",
       "\u001b[36mx\u001b[39m: \u001b[32mAny\u001b[39m = \u001b[32m\"Hi\"\u001b[39m\n",
       "\u001b[36mresult\u001b[39m: \u001b[32mString\u001b[39m = \u001b[32m\"Hi is a String\"\u001b[39m"
      ]
     },
     "execution_count": 5,
     "metadata": {},
     "output_type": "execute_result"
    }
   ],
   "source": [
    "class Person(name: String)\n",
    "val x: Any = \"Hi\"\n",
    "// val x: Any = 123\n",
    "// val x: Any = 123.456\n",
    "// val x: Any = List(1, 2, 3)\n",
    "// val x: Any = new Person(\"someone\")\n",
    "val result: String = x match {\n",
    "    case s: String  => s\"$s is a String\"\n",
    "    case i: Int     => s\"$i is Int\"\n",
    "    case f: Float   => s\"$f is Float\"\n",
    "    case l: List[_] => s\"$l is List\"\n",
    "    case p: Person  => s\"$p is Person\"\n",
    "    case _ => \"Unknown\"\n",
    "}\n",
    "println(result)"
   ]
  },
  {
   "cell_type": "markdown",
   "id": "3ec5879a",
   "metadata": {},
   "source": [
    "### 2.3 for loops \n",
    "\n",
    "In Scala, for loop is also known as for-comprehensions. A for loop is a repetition control structure which allows us to write a loop that is executed a specific number of times."
   ]
  },
  {
   "cell_type": "code",
   "execution_count": null,
   "id": "6a440a31",
   "metadata": {},
   "outputs": [],
   "source": [
    "// Iterate over a list of items\n",
    "val args = List(\"Item 1\", \"Item 2\", \"Item 3\")\n",
    "for (arg <- args) println(arg)"
   ]
  },
  {
   "cell_type": "code",
   "execution_count": null,
   "id": "28928447",
   "metadata": {},
   "outputs": [],
   "source": [
    "// \"x to y\" syntax\n",
    "for (i <- 0 to 5) println(i)"
   ]
  },
  {
   "cell_type": "code",
   "execution_count": null,
   "id": "e7dbbb7a",
   "metadata": {},
   "outputs": [],
   "source": [
    "// \"x until y\" syntax\n",
    "for (i <- 0 until 5) println(i)"
   ]
  },
  {
   "cell_type": "code",
   "execution_count": null,
   "id": "8818a752",
   "metadata": {},
   "outputs": [],
   "source": [
    "// \"x to y by\" syntax\n",
    "for (i <- 0 to 10 by 2) println(i)"
   ]
  },
  {
   "cell_type": "code",
   "execution_count": null,
   "id": "fb88bb7b",
   "metadata": {},
   "outputs": [],
   "source": [
    "// conditional within the loop\n",
    "val fruits = List(\"apple\", \"banana\", \"lime\", \"orange\")\n",
    "for (f <- fruits if f.length > 4) println(f)"
   ]
  },
  {
   "cell_type": "markdown",
   "id": "9f117afe",
   "metadata": {},
   "source": [
    "## 3. Methods\n",
    "\n",
    "Just like other OOP languages, Scala classes have methods, and this is what the Scala method syntax looks like:"
   ]
  },
  {
   "cell_type": "code",
   "execution_count": null,
   "id": "efacbde8",
   "metadata": {},
   "outputs": [],
   "source": [
    "def sum(a: Int, b: Int): Int = a + b\n",
    "def concatenate(s1: String, s2: String): String = s1 + s2"
   ]
  },
  {
   "cell_type": "markdown",
   "id": "2078a9ed",
   "metadata": {},
   "source": [
    "This is how you call those methods:"
   ]
  },
  {
   "cell_type": "code",
   "execution_count": null,
   "id": "1b5df895",
   "metadata": {},
   "outputs": [],
   "source": [
    "val x = sum(1, 2)\n",
    "val y = concatenate(\"foo\", \"bar\")"
   ]
  },
  {
   "cell_type": "markdown",
   "id": "4e93dd4e",
   "metadata": {},
   "source": [
    "There are more things you can do with methods, such as providing default values for method parameters, but that’s a good start for now."
   ]
  },
  {
   "cell_type": "markdown",
   "id": "15c33b86",
   "metadata": {},
   "source": [
    "## 4. Collections\n",
    "\n",
    "1. List\n",
    "2. Array\n",
    "3. Map"
   ]
  },
  {
   "cell_type": "markdown",
   "id": "feb24112",
   "metadata": {},
   "source": [
    "## 5. Classes\n",
    "Lets put together what we have learnt so far and classes (covered next) to implement a partial RiscV assembler.\n",
    "\n",
    "### RiscV Assembler\n",
    "An assembler is a program that takes basic computer instructions and converts them into a pattern of bits that the computer's processor can use to perform its basic operations. To keep things simlpe only few instructions are targeted here from the RiscV ISA, for complete RiscV ISA refer the [specifications](https://riscv.org/technical/specifications/).\n",
    "\n",
    "#### Instruction listing\n",
    "\n",
    "```\n",
    "| Instruction     | Description                                                                 |\n",
    "| --------------- | --------------------------------------------------------------------------- |\n",
    "| add a0, t0, t1  | Adds value of t0 to the value of t1 and stores the sum into a0.             |\n",
    "| addi a0, t0, 10 | Adds value of t0 to the value 10 and stores the sum into a0.                |\n",
    "| sub a0, t0, t1  | Subtracts value of t1 from value of t0 and stores the difference in a0.     |\n",
    "| mul a0, t0, t1  | Multiplies the value of t0 to the value of t1 and stores the product in a0. |\n",
    "```\n",
    "\n",
    "#### Bitmap\n",
    "\n",
    "```\n",
    "| Instr | 31:25   | 24:20 | 19:15 | 14:12 | 11:7 | 6:0     |\n",
    "| ----- | ------- | ----- | ----- | ----- | ---- | ------- |\n",
    "| ADD   | 0000000 | rs2   | rs1   | 000   | rd   | 0110011 |\n",
    "| ADDI  |    imm[11:0]    | rs1   | 000   | rd   | 0010011 |\n",
    "| SUB   | 0100000 | rs2   | rs1   | 000   | rd   | 0110011 |\n",
    "| MUL   | 0000001 | rs2   | rs1   | 000   | rd   | 0110011 |\n",
    "```\n",
    "\n",
    "Here’s an example of a Scala class:"
   ]
  },
  {
   "cell_type": "code",
   "execution_count": 1,
   "id": "2955a4aa",
   "metadata": {},
   "outputs": [
    {
     "data": {
      "text/plain": [
       "defined \u001b[32mclass\u001b[39m \u001b[36mRVAssembler\u001b[39m"
      ]
     },
     "execution_count": 1,
     "metadata": {},
     "output_type": "execute_result"
    }
   ],
   "source": [
    "class RVAssembler() {\n",
    "    val supported_ops  = Array(\"addi\", \"add\", \"sub\", \"mul\")\n",
    "    val supported_regs = Array(\"x0\", \"x1\", \"x2\", \"x3\")\n",
    "    val reg_map        = Map(\"x0\" -> 0, \"x1\" -> 1, \"x2\" -> 2, \"x3\" -> 3)\n",
    "    \n",
    "    def assemble(asm_string: String) = {\n",
    "        println(s\"Convert $asm_string assembly to machine code\")\n",
    "    }\n",
    "}"
   ]
  },
  {
   "cell_type": "code",
   "execution_count": 2,
   "id": "d99f106a",
   "metadata": {},
   "outputs": [
    {
     "data": {
      "text/plain": [
       "\u001b[36masm_code\u001b[39m: \u001b[32mArray\u001b[39m[\u001b[32mString\u001b[39m] = \u001b[33mArray\u001b[39m(\n",
       "  \u001b[32m\"addi x1, x1, 10\"\u001b[39m,\n",
       "  \u001b[32m\"addi x2, x2, 30\"\u001b[39m,\n",
       "  \u001b[32m\"add  x0, x1, x2\"\u001b[39m,\n",
       "  \u001b[32m\"sub  x0, x1, x2\"\u001b[39m,\n",
       "  \u001b[32m\"mul  x0, x1, x2\"\u001b[39m\n",
       ")"
      ]
     },
     "execution_count": 2,
     "metadata": {},
     "output_type": "execute_result"
    }
   ],
   "source": [
    "val asm_code = Array(\n",
    "    \"addi x1, x1, 10\",\n",
    "    \"addi x2, x2, 30\",\n",
    "    \"add  x0, x1, x2\",\n",
    "    \"sub  x0, x1, x2\",\n",
    "    \"mul  x0, x1, x2\"\n",
    ")"
   ]
  },
  {
   "cell_type": "markdown",
   "id": "77bc9339",
   "metadata": {},
   "source": [
    "This is how you use that class:"
   ]
  },
  {
   "cell_type": "code",
   "execution_count": 3,
   "id": "39eea5a2",
   "metadata": {},
   "outputs": [
    {
     "name": "stdout",
     "output_type": "stream",
     "text": [
      "Convert addi x1, x1, 10 assembly to machine code\n"
     ]
    },
    {
     "data": {
      "text/plain": [
       "\u001b[36massembler\u001b[39m: \u001b[32mRVAssembler\u001b[39m = ammonite.$sess.cmd0$Helper$RVAssembler@5c66dd1e"
      ]
     },
     "execution_count": 3,
     "metadata": {},
     "output_type": "execute_result"
    }
   ],
   "source": [
    "val assembler = new RVAssembler()\n",
    "assembler.assemble(asm_code(0))\n"
   ]
  },
  {
   "cell_type": "code",
   "execution_count": null,
   "id": "2eae3bc9",
   "metadata": {},
   "outputs": [],
   "source": [
    "case class RVAssembler() {\n",
    "    val supported_ops = Array(\"addi\", \"add\", \"sub\", \"mul\")\n",
    "    val supported_regs = Array(\"x0\", \"x1\", \"x2\", \"x3\")\n",
    "    val reg_map = Map(\"x0\" -> 0, \"x1\" -> 1, \"x2\" -> 2, \"x3\" -> 3)\n",
    "}"
   ]
  },
  {
   "cell_type": "code",
   "execution_count": null,
   "id": "4f9b1d1e",
   "metadata": {},
   "outputs": [],
   "source": [
    "case class RVAssembler() {\n",
    "    val supported_ops = Array(\"addi\", \"add\", \"sub\", \"mul\")\n",
    "    val supported_regs = Array(\"x0\", \"x1\", \"x2\", \"x3\")\n",
    "    val reg_map = Map(\"x0\" -> 0, \"x1\" -> 1, \"x2\" -> 2, \"x3\" -> 3)\n",
    "\n",
    "    def assemble(asm_string: String): Int = {\n",
    "        val opcode = asm_string.split(\" \")(0).toLowerCase().stripSuffix(\",\")\n",
    "        require(supported_ops.contains(opcode))\n",
    "        val operands = List((asm_string.split(\" \")(1).stripSuffix(\",\")), (asm_string.split(\" \")(2).stripSuffix(\",\")), (asm_string.split(\" \")(3)))\n",
    "        require(operands.size == 3)\n",
    "        println(s\"opcode: $opcode, operands: ${operands}\")\n",
    "        var inst: Int = 0\n",
    "\n",
    "        opcode match {\n",
    "            case \"addi\" => {\n",
    "                check_i_type(operands)\n",
    "                inst = ITypeInstr(operands(1), operands(0), operands(2))\n",
    "            }\n",
    "            case \"add\"  => {\n",
    "                check_r_type(operands)\n",
    "                inst = RTypeInstr(operands(1), operands(2), operands(0), 0x00)\n",
    "            }\n",
    "            case \"sub\"  => { \n",
    "                check_r_type(operands)\n",
    "                inst = RTypeInstr(operands(1), operands(2), operands(0), 0x20)\n",
    "            }\n",
    "            case \"mul\"  => {\n",
    "                check_r_type(operands)\n",
    "                inst = RTypeInstr(operands(1), operands(2), operands(0), 0x01)\n",
    "            }\n",
    "            case _ => throw new Exception(\"Unsupported instruction\") \n",
    "        }\n",
    "        return inst\n",
    "    }\n",
    "    \n",
    "    def RTypeInstr(rs1: String, rs2: String, rd: String, funct7: Int): Int = {\n",
    "        val bin_val: Int = funct7 << 25 | reg_map(rs2) << 20 | reg_map(rs1) << 15 | 0 << 12 | reg_map(rd) << 7 | 0x33\n",
    "        return bin_val\n",
    "    }\n",
    "    \n",
    "    def ITypeInstr(rs1: String, rd: String, imm: String): Int = {\n",
    "        val imm_val = imm.toInt\n",
    "        val bin_val: Int = imm_val << 20 | reg_map(rs1) << 15 | 0 << 12 | reg_map(rd) << 7 | 0x13\n",
    "        return bin_val\n",
    "    }\n",
    "    \n",
    "    def check_r_type(operands: List[String]) = {\n",
    "        require(supported_regs.contains(operands(0)))\n",
    "        require(supported_regs.contains(operands(1)))\n",
    "        require(supported_regs.contains(operands(2)))\n",
    "    }\n",
    "    \n",
    "    def check_i_type(operands: List[String]) = {\n",
    "        val imm_val = operands(2).toInt\n",
    "        require(imm_val >= -2048 && imm_val <= 2047)\n",
    "        require(supported_regs.contains(operands(0)))\n",
    "        require(supported_regs.contains(operands(1)))\n",
    "    }\n",
    "}\n"
   ]
  },
  {
   "cell_type": "code",
   "execution_count": null,
   "id": "df1a5143",
   "metadata": {},
   "outputs": [],
   "source": [
    "val assembler = RVAssembler()\n",
    "for (instr <- instr_list) {\n",
    "    println(assembler.assemble(instr))\n",
    "}"
   ]
  },
  {
   "cell_type": "markdown",
   "id": "b25d8bdc",
   "metadata": {},
   "source": [
    "---\n",
    "\n",
    "## References\n",
    "\n",
    "1. [How to choose a collection class in Scala](https://alvinalexander.com/scala/how-to-choose-collection-class-scala-cookbook/)\n",
    "2. [Scala Book: Prelude - A Taste of Scala](https://docs.scala-lang.org/overviews/scala-book/prelude-taste-of-scala.html)"
   ]
  }
 ],
 "metadata": {
  "kernelspec": {
   "display_name": "Scala",
   "language": "scala",
   "name": "scala"
  },
  "language_info": {
   "codemirror_mode": "text/x-scala",
   "file_extension": ".scala",
   "mimetype": "text/x-scala",
   "name": "scala",
   "nbconvert_exporter": "script",
   "version": "2.12.10"
  }
 },
 "nbformat": 4,
 "nbformat_minor": 5
}
