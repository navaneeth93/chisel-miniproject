{
 "cells": [
  {
   "cell_type": "markdown",
   "id": "5f9f76aa",
   "metadata": {},
   "source": [
    "# Introduction to Scala\n",
    "\n",
    "These tutorials use Jupyter notebook to run code interactively which makes way for a fun way of learning to code a new language.\n",
    "\n",
    "In this tutorial basic concepts of scala are introduced along with building a cool project.\n",
    "\n",
    "## heading 2\n",
    "\n",
    "---"
   ]
  },
  {
   "cell_type": "code",
   "execution_count": 1,
   "id": "d58912fa",
   "metadata": {},
   "outputs": [
    {
     "name": "stdout",
     "output_type": "stream",
     "text": [
      "Hello World!!\n"
     ]
    }
   ],
   "source": [
    "println(\"Hello World!!\")"
   ]
  },
  {
   "cell_type": "code",
   "execution_count": 2,
   "id": "fe767fd8",
   "metadata": {},
   "outputs": [
    {
     "data": {
      "text/plain": [
       "\u001b[36mx\u001b[39m: \u001b[32mInt\u001b[39m = \u001b[32m100\u001b[39m"
      ]
     },
     "execution_count": 2,
     "metadata": {},
     "output_type": "execute_result"
    }
   ],
   "source": [
    "val x = 100"
   ]
  },
  {
   "cell_type": "code",
   "execution_count": null,
   "id": "fb1447fd",
   "metadata": {},
   "outputs": [],
   "source": []
  },
  {
   "cell_type": "markdown",
   "id": "be5ebed5",
   "metadata": {},
   "source": [
    "Somet content"
   ]
  },
  {
   "cell_type": "markdown",
   "id": "4dbc29b2",
   "metadata": {},
   "source": [
    "```\n",
    "| Instr | 31:25   | 24:20 | 19:15 | 14:12 | 11:7 | 6:0     |\n",
    "| ----- | ------- | ----- | ----- | ----- | ---- | ------- |\n",
    "| ADD   | 0000000 | rs2   | rs1   | 000   | rd   | 0110011 |\n",
    "| ADDI  |    imm[11:0]    | rs1   | 000   | rd   | 0010011 |\n",
    "| SUB   | 0100000 | rs2   | rs1   | 000   | rd   | 0110011 |\n",
    "| MUL   | 0000001 | rs2   | rs1   | 000   | rd   | 0110011 |\n",
    "```"
   ]
  },
  {
   "cell_type": "markdown",
   "id": "9f5785b3",
   "metadata": {},
   "source": [
    "Supported instructions\n",
    "\n",
    "```\n",
    "add a0, t0, t1 -> Adds value of t0 to the value of t1 and stores the sum into a0\n",
    "addi a0, t0, -10 -> Adds value of t0 to the value -10 and stores the sum into a0.\n",
    "sub a0, t0, t1 -> Subtracts value of t1 from value of t0 and stores the difference in a0.\n",
    "mul a0, t0, t1 -> Multiplies the value of t0 to the value of t1 and stores the product in a0.\n",
    "```\n"
   ]
  },
  {
   "cell_type": "code",
   "execution_count": 13,
   "id": "d99f106a",
   "metadata": {},
   "outputs": [
    {
     "name": "stdout",
     "output_type": "stream",
     "text": [
      "List(addi x1, x1, -10, addi x2, x2, 30, add x0, x1, x2, sub x0, x1, x2, mul x0, x1, x2)\n"
     ]
    },
    {
     "data": {
      "text/plain": [
       "\u001b[36minstr_list\u001b[39m: \u001b[32mSeq\u001b[39m[\u001b[32mString\u001b[39m] = \u001b[33mList\u001b[39m(\n",
       "  \u001b[32m\"addi x1, x1, -10\"\u001b[39m,\n",
       "  \u001b[32m\"addi x2, x2, 30\"\u001b[39m,\n",
       "  \u001b[32m\"add x0, x1, x2\"\u001b[39m,\n",
       "  \u001b[32m\"sub x0, x1, x2\"\u001b[39m,\n",
       "  \u001b[32m\"mul x0, x1, x2\"\u001b[39m\n",
       ")"
      ]
     },
     "execution_count": 13,
     "metadata": {},
     "output_type": "execute_result"
    }
   ],
   "source": [
    "val instr_list = Seq(\n",
    "    \"addi x1, x1, -10\",\n",
    "    \"addi x2, x2, 30\",\n",
    "    \"add x0, x1, x2\",\n",
    "    \"sub x0, x1, x2\",\n",
    "    \"mul x0, x1, x2\"\n",
    ") \n",
    "println(instr_list)"
   ]
  },
  {
   "cell_type": "code",
   "execution_count": 28,
   "id": "4f9b1d1e",
   "metadata": {},
   "outputs": [
    {
     "name": "stdout",
     "output_type": "stream",
     "text": [
      "opcode: addi, operands: x1,x1,-10\n",
      "opcode: addi, operands: x2,x2,30\n",
      "opcode: add, operands: x0,x1,x2\n",
      "opcode: sub, operands: x0,x1,x2\n",
      "opcode: mul, operands: x0,x1,x2\n"
     ]
    },
    {
     "data": {
      "text/plain": [
       "defined \u001b[32mfunction\u001b[39m \u001b[36msplitter\u001b[39m"
      ]
     },
     "execution_count": 28,
     "metadata": {},
     "output_type": "execute_result"
    }
   ],
   "source": [
    "def splitter(item: String) = item.split(\",\")\n",
    "for (instr <- instr_list) {\n",
    "    val opcode = instr.split(\" \")(0)\n",
    "    val operands = Array((instr.split(\" \")(1)), (instr.split(\" \")(2)), (instr.split(\" \")(3)))\n",
    "    println(s\"opcode: $opcode, operands: ${operands.mkString}\")\n",
    "}\n"
   ]
  }
 ],
 "metadata": {
  "kernelspec": {
   "display_name": "Scala",
   "language": "scala",
   "name": "scala"
  },
  "language_info": {
   "codemirror_mode": "text/x-scala",
   "file_extension": ".scala",
   "mimetype": "text/x-scala",
   "name": "scala",
   "nbconvert_exporter": "script",
   "version": "2.12.10"
  }
 },
 "nbformat": 4,
 "nbformat_minor": 5
}
