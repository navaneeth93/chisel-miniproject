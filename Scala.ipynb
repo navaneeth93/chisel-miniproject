{
 "cells": [
  {
   "cell_type": "markdown",
   "id": "5f9f76aa",
   "metadata": {},
   "source": [
    "# Introduction to Scala\n",
    "\n",
    "These tutorials use Jupyter notebook to run code interactively which makes way for a fun way of learning to code a new language.\n",
    "\n",
    "In this tutorial basic concepts of scala are introduced along with building a cool project.\n",
    "\n",
    "## heading 2\n",
    "\n",
    "---"
   ]
  },
  {
   "cell_type": "code",
   "execution_count": 1,
   "id": "d58912fa",
   "metadata": {},
   "outputs": [
    {
     "name": "stdout",
     "output_type": "stream",
     "text": [
      "Hello World!!\n"
     ]
    }
   ],
   "source": [
    "println(\"Hello World!!\")"
   ]
  },
  {
   "cell_type": "code",
   "execution_count": 2,
   "id": "fe767fd8",
   "metadata": {},
   "outputs": [
    {
     "data": {
      "text/plain": [
       "\u001b[36mx\u001b[39m: \u001b[32mInt\u001b[39m = \u001b[32m100\u001b[39m"
      ]
     },
     "execution_count": 2,
     "metadata": {},
     "output_type": "execute_result"
    }
   ],
   "source": [
    "val x = 100"
   ]
  },
  {
   "cell_type": "code",
   "execution_count": null,
   "id": "fb1447fd",
   "metadata": {},
   "outputs": [],
   "source": []
  },
  {
   "cell_type": "markdown",
   "id": "be5ebed5",
   "metadata": {},
   "source": [
    "Somet content"
   ]
  },
  {
   "cell_type": "code",
   "execution_count": null,
   "id": "4fec7c31",
   "metadata": {},
   "outputs": [],
   "source": []
  }
 ],
 "metadata": {
  "kernelspec": {
   "display_name": "Scala",
   "language": "scala",
   "name": "scala"
  },
  "language_info": {
   "codemirror_mode": "text/x-scala",
   "file_extension": ".scala",
   "mimetype": "text/x-scala",
   "name": "scala",
   "nbconvert_exporter": "script",
   "version": "2.12.10"
  }
 },
 "nbformat": 4,
 "nbformat_minor": 5
}
